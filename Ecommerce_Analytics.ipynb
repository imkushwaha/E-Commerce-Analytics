{
  "nbformat": 4,
  "nbformat_minor": 0,
  "metadata": {
    "colab": {
      "name": "Ecommerce_Analytics.ipynb",
      "provenance": [],
      "collapsed_sections": []
    },
    "kernelspec": {
      "name": "python3",
      "display_name": "Python 3"
    }
  },
  "cells": [
    {
      "cell_type": "markdown",
      "metadata": {
        "id": "30yRk86Ejura"
      },
      "source": [
        "# Ecommerce Analytics: Customer Segmentation using RFM approach.\n"
      ]
    },
    {
      "cell_type": "markdown",
      "metadata": {
        "id": "-EKcwboZgKQO"
      },
      "source": [
        "#RFM (Recency, Frequency, Monetary) \n",
        "\n",
        "RFM analysis is a behavior-based approach grouping customers into segments. It groups the customers on the basis of their previous purchase transactions. How recently, how often, and how much did a customer buy. RFM filters customers into various groups for the purpose of better service."
      ]
    },
    {
      "cell_type": "markdown",
      "metadata": {
        "id": "5Yv8aXVe40SY"
      },
      "source": [
        "# What is RFM?\n",
        "\n",
        "Behavioral segmentation by 3 important features:\n",
        "- Recency — number of days since the last purchase\n",
        "\n",
        "- Frequency — number of transactions made over a given period\n",
        "\n",
        "- Monetary — amount spent over a given period of time\n",
        "\n",
        "We will then have to group these features by:\n",
        "- Percentiles or quantiles\n",
        "- Pareto Rule — 80/20\n",
        "- Business Acumen\n",
        "\n",
        "We will be implementing the percentile grouping for our approach."
      ]
    },
    {
      "cell_type": "markdown",
      "metadata": {
        "id": "f4wlG19-38TI"
      },
      "source": [
        "# Loading Required Libraries"
      ]
    },
    {
      "cell_type": "code",
      "metadata": {
        "id": "utCjdHKwtmUD"
      },
      "source": [
        "import pandas as pd\n",
        "import numpy as np\n",
        "import matplotlib.pyplot as plt\n",
        "import seaborn as sns\n",
        "import datetime as dt\n",
        "\n",
        "import warnings\n",
        "warnings.filterwarnings(\"ignore\")"
      ],
      "execution_count": null,
      "outputs": []
    },
    {
      "cell_type": "code",
      "metadata": {
        "id": "1NVf5yehuZxw"
      },
      "source": [
        "df = pd.read_excel(\"/content/drive/MyDrive/Colab Notebooks/EcommerceAnalytics/Ecommerce Analytics/E-com_Data.xlsx\")"
      ],
      "execution_count": null,
      "outputs": []
    },
    {
      "cell_type": "code",
      "metadata": {
        "colab": {
          "base_uri": "https://localhost:8080/",
          "height": 221
        },
        "id": "n991a_2Xwxsi",
        "outputId": "7f3aaa2e-db86-4fa1-ea8a-83fa47c2b3f8"
      },
      "source": [
        "df.head()"
      ],
      "execution_count": null,
      "outputs": [
        {
          "output_type": "execute_result",
          "data": {
            "text/html": [
              "<div>\n",
              "<style scoped>\n",
              "    .dataframe tbody tr th:only-of-type {\n",
              "        vertical-align: middle;\n",
              "    }\n",
              "\n",
              "    .dataframe tbody tr th {\n",
              "        vertical-align: top;\n",
              "    }\n",
              "\n",
              "    .dataframe thead th {\n",
              "        text-align: right;\n",
              "    }\n",
              "</style>\n",
              "<table border=\"1\" class=\"dataframe\">\n",
              "  <thead>\n",
              "    <tr style=\"text-align: right;\">\n",
              "      <th></th>\n",
              "      <th>CustomerID</th>\n",
              "      <th>Item Code</th>\n",
              "      <th>InvoieNo</th>\n",
              "      <th>Date of purchase</th>\n",
              "      <th>Quantity</th>\n",
              "      <th>Time</th>\n",
              "      <th>price per Unit</th>\n",
              "      <th>Price</th>\n",
              "      <th>Shipping Location</th>\n",
              "      <th>Cancelled_status</th>\n",
              "      <th>Reason of return</th>\n",
              "      <th>Sold as set</th>\n",
              "    </tr>\n",
              "  </thead>\n",
              "  <tbody>\n",
              "    <tr>\n",
              "      <th>0</th>\n",
              "      <td>4355.0</td>\n",
              "      <td>15734</td>\n",
              "      <td>398177</td>\n",
              "      <td>2017-10-29</td>\n",
              "      <td>6</td>\n",
              "      <td>15:36:00</td>\n",
              "      <td>321.0</td>\n",
              "      <td>1926.0</td>\n",
              "      <td>Location 1</td>\n",
              "      <td>NaN</td>\n",
              "      <td>NaN</td>\n",
              "      <td>NaN</td>\n",
              "    </tr>\n",
              "    <tr>\n",
              "      <th>1</th>\n",
              "      <td>4352.0</td>\n",
              "      <td>14616</td>\n",
              "      <td>394422</td>\n",
              "      <td>2017-10-05</td>\n",
              "      <td>2</td>\n",
              "      <td>14:53:00</td>\n",
              "      <td>870.0</td>\n",
              "      <td>1740.0</td>\n",
              "      <td>Location 1</td>\n",
              "      <td>NaN</td>\n",
              "      <td>NaN</td>\n",
              "      <td>NaN</td>\n",
              "    </tr>\n",
              "    <tr>\n",
              "      <th>2</th>\n",
              "      <td>4352.0</td>\n",
              "      <td>14614</td>\n",
              "      <td>394422</td>\n",
              "      <td>2017-10-12</td>\n",
              "      <td>2</td>\n",
              "      <td>14:53:00</td>\n",
              "      <td>933.0</td>\n",
              "      <td>1866.0</td>\n",
              "      <td>Location 1</td>\n",
              "      <td>NaN</td>\n",
              "      <td>NaN</td>\n",
              "      <td>NaN</td>\n",
              "    </tr>\n",
              "    <tr>\n",
              "      <th>3</th>\n",
              "      <td>4352.0</td>\n",
              "      <td>85014B</td>\n",
              "      <td>388633</td>\n",
              "      <td>2017-08-22</td>\n",
              "      <td>3</td>\n",
              "      <td>14:47:00</td>\n",
              "      <td>623.0</td>\n",
              "      <td>1869.0</td>\n",
              "      <td>Location 1</td>\n",
              "      <td>NaN</td>\n",
              "      <td>NaN</td>\n",
              "      <td>NaN</td>\n",
              "    </tr>\n",
              "    <tr>\n",
              "      <th>4</th>\n",
              "      <td>4352.0</td>\n",
              "      <td>15364</td>\n",
              "      <td>394422</td>\n",
              "      <td>2017-10-10</td>\n",
              "      <td>2</td>\n",
              "      <td>14:53:00</td>\n",
              "      <td>944.0</td>\n",
              "      <td>1888.0</td>\n",
              "      <td>Location 1</td>\n",
              "      <td>NaN</td>\n",
              "      <td>NaN</td>\n",
              "      <td>NaN</td>\n",
              "    </tr>\n",
              "  </tbody>\n",
              "</table>\n",
              "</div>"
            ],
            "text/plain": [
              "   CustomerID Item Code  ...  Reason of return Sold as set\n",
              "0      4355.0     15734  ...               NaN         NaN\n",
              "1      4352.0     14616  ...               NaN         NaN\n",
              "2      4352.0     14614  ...               NaN         NaN\n",
              "3      4352.0    85014B  ...               NaN         NaN\n",
              "4      4352.0     15364  ...               NaN         NaN\n",
              "\n",
              "[5 rows x 12 columns]"
            ]
          },
          "metadata": {
            "tags": []
          },
          "execution_count": 4
        }
      ]
    },
    {
      "cell_type": "code",
      "metadata": {
        "colab": {
          "base_uri": "https://localhost:8080/"
        },
        "id": "t74hVUuEyYYJ",
        "outputId": "4c1c1ec7-fd4c-40c7-9fc8-7336673eaa9c"
      },
      "source": [
        "print(\"The Dimension of Data Set is {}\".format(df.shape))"
      ],
      "execution_count": null,
      "outputs": [
        {
          "output_type": "stream",
          "text": [
            "The Dimension of Data Set is (537979, 12)\n"
          ],
          "name": "stdout"
        }
      ]
    },
    {
      "cell_type": "code",
      "metadata": {
        "colab": {
          "base_uri": "https://localhost:8080/"
        },
        "id": "AWwiOfvFxXpm",
        "outputId": "d6851faf-8b56-4b1f-ffeb-418cc0468de8"
      },
      "source": [
        "df.info()"
      ],
      "execution_count": null,
      "outputs": [
        {
          "output_type": "stream",
          "text": [
            "<class 'pandas.core.frame.DataFrame'>\n",
            "RangeIndex: 537979 entries, 0 to 537978\n",
            "Data columns (total 12 columns):\n",
            " #   Column             Non-Null Count   Dtype         \n",
            "---  ------             --------------   -----         \n",
            " 0   CustomerID         404189 non-null  float64       \n",
            " 1   Item Code          537979 non-null  object        \n",
            " 2   InvoieNo           537979 non-null  int64         \n",
            " 3   Date of purchase   537979 non-null  datetime64[ns]\n",
            " 4   Quantity           537979 non-null  int64         \n",
            " 5   Time               537979 non-null  object        \n",
            " 6   price per Unit     537979 non-null  float64       \n",
            " 7   Price              537979 non-null  float64       \n",
            " 8   Shipping Location  537979 non-null  object        \n",
            " 9   Cancelled_status   8345 non-null    float64       \n",
            " 10  Reason of return   3 non-null       object        \n",
            " 11  Sold as set        0 non-null       float64       \n",
            "dtypes: datetime64[ns](1), float64(5), int64(2), object(4)\n",
            "memory usage: 49.3+ MB\n"
          ],
          "name": "stdout"
        }
      ]
    },
    {
      "cell_type": "code",
      "metadata": {
        "colab": {
          "base_uri": "https://localhost:8080/"
        },
        "id": "vjxYCop-x6VA",
        "outputId": "5a6482e7-39b8-4be2-ad15-eb5b264894a1"
      },
      "source": [
        "df.isnull().sum()"
      ],
      "execution_count": null,
      "outputs": [
        {
          "output_type": "execute_result",
          "data": {
            "text/plain": [
              "CustomerID           133790\n",
              "Item Code                 0\n",
              "InvoieNo                  0\n",
              "Date of purchase          0\n",
              "Quantity                  0\n",
              "Time                      0\n",
              "price per Unit            0\n",
              "Price                     0\n",
              "Shipping Location         0\n",
              "Cancelled_status     529634\n",
              "Reason of return     537976\n",
              "Sold as set          537979\n",
              "dtype: int64"
            ]
          },
          "metadata": {
            "tags": []
          },
          "execution_count": 7
        }
      ]
    },
    {
      "cell_type": "code",
      "metadata": {
        "colab": {
          "base_uri": "https://localhost:8080/"
        },
        "id": "JtJJ7U3ZyH93",
        "outputId": "a7747cdb-7955-40ef-8391-261ab85cd2df"
      },
      "source": [
        "df.isnull().mean()"
      ],
      "execution_count": null,
      "outputs": [
        {
          "output_type": "execute_result",
          "data": {
            "text/plain": [
              "CustomerID           0.248690\n",
              "Item Code            0.000000\n",
              "InvoieNo             0.000000\n",
              "Date of purchase     0.000000\n",
              "Quantity             0.000000\n",
              "Time                 0.000000\n",
              "price per Unit       0.000000\n",
              "Price                0.000000\n",
              "Shipping Location    0.000000\n",
              "Cancelled_status     0.984488\n",
              "Reason of return     0.999994\n",
              "Sold as set          1.000000\n",
              "dtype: float64"
            ]
          },
          "metadata": {
            "tags": []
          },
          "execution_count": 8
        }
      ]
    },
    {
      "cell_type": "code",
      "metadata": {
        "colab": {
          "base_uri": "https://localhost:8080/",
          "height": 297
        },
        "id": "8WT0OT4nyOdO",
        "outputId": "6efa1a7b-c610-4a2b-d403-d2af50e4b359"
      },
      "source": [
        "df.describe(include=\"float\")"
      ],
      "execution_count": null,
      "outputs": [
        {
          "output_type": "execute_result",
          "data": {
            "text/html": [
              "<div>\n",
              "<style scoped>\n",
              "    .dataframe tbody tr th:only-of-type {\n",
              "        vertical-align: middle;\n",
              "    }\n",
              "\n",
              "    .dataframe tbody tr th {\n",
              "        vertical-align: top;\n",
              "    }\n",
              "\n",
              "    .dataframe thead th {\n",
              "        text-align: right;\n",
              "    }\n",
              "</style>\n",
              "<table border=\"1\" class=\"dataframe\">\n",
              "  <thead>\n",
              "    <tr style=\"text-align: right;\">\n",
              "      <th></th>\n",
              "      <th>CustomerID</th>\n",
              "      <th>price per Unit</th>\n",
              "      <th>Price</th>\n",
              "      <th>Cancelled_status</th>\n",
              "      <th>Sold as set</th>\n",
              "    </tr>\n",
              "  </thead>\n",
              "  <tbody>\n",
              "    <tr>\n",
              "      <th>count</th>\n",
              "      <td>404189.000000</td>\n",
              "      <td>537979.000000</td>\n",
              "      <td>537979.000000</td>\n",
              "      <td>8345.0</td>\n",
              "      <td>0.0</td>\n",
              "    </tr>\n",
              "    <tr>\n",
              "      <th>mean</th>\n",
              "      <td>2181.909035</td>\n",
              "      <td>378.339062</td>\n",
              "      <td>2161.414593</td>\n",
              "      <td>1.0</td>\n",
              "      <td>NaN</td>\n",
              "    </tr>\n",
              "    <tr>\n",
              "      <th>std</th>\n",
              "      <td>1252.681881</td>\n",
              "      <td>440.048823</td>\n",
              "      <td>4538.487177</td>\n",
              "      <td>0.0</td>\n",
              "      <td>NaN</td>\n",
              "    </tr>\n",
              "    <tr>\n",
              "      <th>min</th>\n",
              "      <td>2.000000</td>\n",
              "      <td>1.000000</td>\n",
              "      <td>-10152.000000</td>\n",
              "      <td>1.0</td>\n",
              "      <td>NaN</td>\n",
              "    </tr>\n",
              "    <tr>\n",
              "      <th>25%</th>\n",
              "      <td>1207.000000</td>\n",
              "      <td>169.000000</td>\n",
              "      <td>451.000000</td>\n",
              "      <td>1.0</td>\n",
              "      <td>NaN</td>\n",
              "    </tr>\n",
              "    <tr>\n",
              "      <th>50%</th>\n",
              "      <td>2078.000000</td>\n",
              "      <td>261.000000</td>\n",
              "      <td>1194.000000</td>\n",
              "      <td>1.0</td>\n",
              "      <td>NaN</td>\n",
              "    </tr>\n",
              "    <tr>\n",
              "      <th>75%</th>\n",
              "      <td>3291.000000</td>\n",
              "      <td>456.000000</td>\n",
              "      <td>2232.000000</td>\n",
              "      <td>1.0</td>\n",
              "      <td>NaN</td>\n",
              "    </tr>\n",
              "    <tr>\n",
              "      <th>max</th>\n",
              "      <td>4372.000000</td>\n",
              "      <td>64973.000000</td>\n",
              "      <td>90400.000000</td>\n",
              "      <td>1.0</td>\n",
              "      <td>NaN</td>\n",
              "    </tr>\n",
              "  </tbody>\n",
              "</table>\n",
              "</div>"
            ],
            "text/plain": [
              "          CustomerID  price per Unit  ...  Cancelled_status  Sold as set\n",
              "count  404189.000000   537979.000000  ...            8345.0          0.0\n",
              "mean     2181.909035      378.339062  ...               1.0          NaN\n",
              "std      1252.681881      440.048823  ...               0.0          NaN\n",
              "min         2.000000        1.000000  ...               1.0          NaN\n",
              "25%      1207.000000      169.000000  ...               1.0          NaN\n",
              "50%      2078.000000      261.000000  ...               1.0          NaN\n",
              "75%      3291.000000      456.000000  ...               1.0          NaN\n",
              "max      4372.000000    64973.000000  ...               1.0          NaN\n",
              "\n",
              "[8 rows x 5 columns]"
            ]
          },
          "metadata": {
            "tags": []
          },
          "execution_count": 9
        }
      ]
    },
    {
      "cell_type": "code",
      "metadata": {
        "colab": {
          "base_uri": "https://localhost:8080/",
          "height": 173
        },
        "id": "fMWB5IQryVKJ",
        "outputId": "a7c56ce4-7f54-4194-973c-d5d199aede45"
      },
      "source": [
        "df.describe(include=\"object\")"
      ],
      "execution_count": null,
      "outputs": [
        {
          "output_type": "execute_result",
          "data": {
            "text/html": [
              "<div>\n",
              "<style scoped>\n",
              "    .dataframe tbody tr th:only-of-type {\n",
              "        vertical-align: middle;\n",
              "    }\n",
              "\n",
              "    .dataframe tbody tr th {\n",
              "        vertical-align: top;\n",
              "    }\n",
              "\n",
              "    .dataframe thead th {\n",
              "        text-align: right;\n",
              "    }\n",
              "</style>\n",
              "<table border=\"1\" class=\"dataframe\">\n",
              "  <thead>\n",
              "    <tr style=\"text-align: right;\">\n",
              "      <th></th>\n",
              "      <th>Item Code</th>\n",
              "      <th>Time</th>\n",
              "      <th>Shipping Location</th>\n",
              "      <th>Reason of return</th>\n",
              "    </tr>\n",
              "  </thead>\n",
              "  <tbody>\n",
              "    <tr>\n",
              "      <th>count</th>\n",
              "      <td>537979</td>\n",
              "      <td>537979</td>\n",
              "      <td>537979</td>\n",
              "      <td>3</td>\n",
              "    </tr>\n",
              "    <tr>\n",
              "      <th>unique</th>\n",
              "      <td>4009</td>\n",
              "      <td>770</td>\n",
              "      <td>20</td>\n",
              "      <td>2</td>\n",
              "    </tr>\n",
              "    <tr>\n",
              "      <th>top</th>\n",
              "      <td>85123A</td>\n",
              "      <td>15:56:00</td>\n",
              "      <td>Location 36</td>\n",
              "      <td>Missing</td>\n",
              "    </tr>\n",
              "    <tr>\n",
              "      <th>freq</th>\n",
              "      <td>2298</td>\n",
              "      <td>2616</td>\n",
              "      <td>501963</td>\n",
              "      <td>2</td>\n",
              "    </tr>\n",
              "  </tbody>\n",
              "</table>\n",
              "</div>"
            ],
            "text/plain": [
              "       Item Code      Time Shipping Location Reason of return\n",
              "count     537979    537979            537979                3\n",
              "unique      4009       770                20                2\n",
              "top       85123A  15:56:00       Location 36          Missing\n",
              "freq        2298      2616            501963                2"
            ]
          },
          "metadata": {
            "tags": []
          },
          "execution_count": 10
        }
      ]
    },
    {
      "cell_type": "code",
      "metadata": {
        "colab": {
          "base_uri": "https://localhost:8080/"
        },
        "id": "bc_un2MI4WXm",
        "outputId": "ece51a34-d62c-40d4-b526-a34b9bbc49c1"
      },
      "source": [
        "df.columns"
      ],
      "execution_count": null,
      "outputs": [
        {
          "output_type": "execute_result",
          "data": {
            "text/plain": [
              "Index(['CustomerID', 'Item Code', 'InvoieNo', 'Date of purchase', 'Quantity',\n",
              "       'Time', 'price per Unit', 'Price', 'Shipping Location',\n",
              "       'Cancelled_status', 'Reason of return', 'Sold as set'],\n",
              "      dtype='object')"
            ]
          },
          "metadata": {
            "tags": []
          },
          "execution_count": 11
        }
      ]
    },
    {
      "cell_type": "code",
      "metadata": {
        "id": "w3WYDD106cQ7"
      },
      "source": [
        "col = ['CustomerID', 'Item_Code', 'InvoieNo', 'Date_of_purchase', 'Quantity',\n",
        "       'Time', 'price_per_Unit', 'Price', 'Shipping_Location',\n",
        "       'Cancelled_status', 'Reason_of_return', 'Sold_as_set']"
      ],
      "execution_count": null,
      "outputs": []
    },
    {
      "cell_type": "code",
      "metadata": {
        "id": "oPJvTDkZ6p9F"
      },
      "source": [
        "df.columns = col"
      ],
      "execution_count": null,
      "outputs": []
    },
    {
      "cell_type": "code",
      "metadata": {
        "colab": {
          "base_uri": "https://localhost:8080/",
          "height": 224
        },
        "id": "lBDiytMJ6t4y",
        "outputId": "b18680b8-d61d-465f-eb4b-39ca67e1f9f3"
      },
      "source": [
        "df.head()"
      ],
      "execution_count": null,
      "outputs": [
        {
          "output_type": "execute_result",
          "data": {
            "text/html": [
              "<div>\n",
              "<style scoped>\n",
              "    .dataframe tbody tr th:only-of-type {\n",
              "        vertical-align: middle;\n",
              "    }\n",
              "\n",
              "    .dataframe tbody tr th {\n",
              "        vertical-align: top;\n",
              "    }\n",
              "\n",
              "    .dataframe thead th {\n",
              "        text-align: right;\n",
              "    }\n",
              "</style>\n",
              "<table border=\"1\" class=\"dataframe\">\n",
              "  <thead>\n",
              "    <tr style=\"text-align: right;\">\n",
              "      <th></th>\n",
              "      <th>CustomerID</th>\n",
              "      <th>Item_Code</th>\n",
              "      <th>InvoieNo</th>\n",
              "      <th>Date_of_purchase</th>\n",
              "      <th>Quantity</th>\n",
              "      <th>Time</th>\n",
              "      <th>price_per_Unit</th>\n",
              "      <th>Price</th>\n",
              "      <th>Shipping_Location</th>\n",
              "      <th>Cancelled_status</th>\n",
              "      <th>Reason_of_return</th>\n",
              "      <th>Sold_as_set</th>\n",
              "    </tr>\n",
              "  </thead>\n",
              "  <tbody>\n",
              "    <tr>\n",
              "      <th>0</th>\n",
              "      <td>4355.0</td>\n",
              "      <td>15734</td>\n",
              "      <td>398177</td>\n",
              "      <td>2017-10-29</td>\n",
              "      <td>6</td>\n",
              "      <td>15:36:00</td>\n",
              "      <td>321.0</td>\n",
              "      <td>1926.0</td>\n",
              "      <td>Location 1</td>\n",
              "      <td>NaN</td>\n",
              "      <td>NaN</td>\n",
              "      <td>NaN</td>\n",
              "    </tr>\n",
              "    <tr>\n",
              "      <th>1</th>\n",
              "      <td>4352.0</td>\n",
              "      <td>14616</td>\n",
              "      <td>394422</td>\n",
              "      <td>2017-10-05</td>\n",
              "      <td>2</td>\n",
              "      <td>14:53:00</td>\n",
              "      <td>870.0</td>\n",
              "      <td>1740.0</td>\n",
              "      <td>Location 1</td>\n",
              "      <td>NaN</td>\n",
              "      <td>NaN</td>\n",
              "      <td>NaN</td>\n",
              "    </tr>\n",
              "    <tr>\n",
              "      <th>2</th>\n",
              "      <td>4352.0</td>\n",
              "      <td>14614</td>\n",
              "      <td>394422</td>\n",
              "      <td>2017-10-12</td>\n",
              "      <td>2</td>\n",
              "      <td>14:53:00</td>\n",
              "      <td>933.0</td>\n",
              "      <td>1866.0</td>\n",
              "      <td>Location 1</td>\n",
              "      <td>NaN</td>\n",
              "      <td>NaN</td>\n",
              "      <td>NaN</td>\n",
              "    </tr>\n",
              "    <tr>\n",
              "      <th>3</th>\n",
              "      <td>4352.0</td>\n",
              "      <td>85014B</td>\n",
              "      <td>388633</td>\n",
              "      <td>2017-08-22</td>\n",
              "      <td>3</td>\n",
              "      <td>14:47:00</td>\n",
              "      <td>623.0</td>\n",
              "      <td>1869.0</td>\n",
              "      <td>Location 1</td>\n",
              "      <td>NaN</td>\n",
              "      <td>NaN</td>\n",
              "      <td>NaN</td>\n",
              "    </tr>\n",
              "    <tr>\n",
              "      <th>4</th>\n",
              "      <td>4352.0</td>\n",
              "      <td>15364</td>\n",
              "      <td>394422</td>\n",
              "      <td>2017-10-10</td>\n",
              "      <td>2</td>\n",
              "      <td>14:53:00</td>\n",
              "      <td>944.0</td>\n",
              "      <td>1888.0</td>\n",
              "      <td>Location 1</td>\n",
              "      <td>NaN</td>\n",
              "      <td>NaN</td>\n",
              "      <td>NaN</td>\n",
              "    </tr>\n",
              "  </tbody>\n",
              "</table>\n",
              "</div>"
            ],
            "text/plain": [
              "   CustomerID Item_Code  ...  Reason_of_return Sold_as_set\n",
              "0      4355.0     15734  ...               NaN         NaN\n",
              "1      4352.0     14616  ...               NaN         NaN\n",
              "2      4352.0     14614  ...               NaN         NaN\n",
              "3      4352.0    85014B  ...               NaN         NaN\n",
              "4      4352.0     15364  ...               NaN         NaN\n",
              "\n",
              "[5 rows x 12 columns]"
            ]
          },
          "metadata": {
            "tags": []
          },
          "execution_count": 14
        }
      ]
    },
    {
      "cell_type": "code",
      "metadata": {
        "colab": {
          "base_uri": "https://localhost:8080/"
        },
        "id": "IGuLzPsf6wJZ",
        "outputId": "30a118d7-3a59-4dc6-bf71-f994054ed84a"
      },
      "source": [
        "df[\"Item_Code\"].value_counts()"
      ],
      "execution_count": null,
      "outputs": [
        {
          "output_type": "execute_result",
          "data": {
            "text/plain": [
              "85123A    2298\n",
              "14846     2162\n",
              "85099B    2145\n",
              "39989     1719\n",
              "13148     1635\n",
              "          ... \n",
              "46776e       1\n",
              "84201C       1\n",
              "84509F       1\n",
              "14248        1\n",
              "72803b       1\n",
              "Name: Item_Code, Length: 4009, dtype: int64"
            ]
          },
          "metadata": {
            "tags": []
          },
          "execution_count": 15
        }
      ]
    },
    {
      "cell_type": "code",
      "metadata": {
        "colab": {
          "base_uri": "https://localhost:8080/"
        },
        "id": "IFUX6ziN63yz",
        "outputId": "f180ffa4-a16e-4e7e-d95a-59c9aa34e899"
      },
      "source": [
        "df[\"InvoieNo\"].value_counts()"
      ],
      "execution_count": null,
      "outputs": [
        {
          "output_type": "execute_result",
          "data": {
            "text/plain": [
              "398649    1112\n",
              "406283     748\n",
              "406556     730\n",
              "405793     720\n",
              "383539     704\n",
              "          ... \n",
              "371728       1\n",
              "375826       1\n",
              "367638       1\n",
              "362005       1\n",
              "402795       1\n",
              "Name: InvoieNo, Length: 24928, dtype: int64"
            ]
          },
          "metadata": {
            "tags": []
          },
          "execution_count": 16
        }
      ]
    },
    {
      "cell_type": "code",
      "metadata": {
        "id": "u-XibmpE8nkm"
      },
      "source": [
        "df['year'] = pd.DatetimeIndex(df[\"Date_of_purchase\"]).year"
      ],
      "execution_count": null,
      "outputs": []
    },
    {
      "cell_type": "code",
      "metadata": {
        "id": "ba_-qrfUF2ww"
      },
      "source": [
        "df['month'] = pd.DatetimeIndex(df[\"Date_of_purchase\"]).month"
      ],
      "execution_count": null,
      "outputs": []
    },
    {
      "cell_type": "code",
      "metadata": {
        "colab": {
          "base_uri": "https://localhost:8080/",
          "height": 224
        },
        "id": "N0COn-mR_d6N",
        "outputId": "d509e142-6aec-49a4-a37a-9e830950d244"
      },
      "source": [
        "df.head()"
      ],
      "execution_count": null,
      "outputs": [
        {
          "output_type": "execute_result",
          "data": {
            "text/html": [
              "<div>\n",
              "<style scoped>\n",
              "    .dataframe tbody tr th:only-of-type {\n",
              "        vertical-align: middle;\n",
              "    }\n",
              "\n",
              "    .dataframe tbody tr th {\n",
              "        vertical-align: top;\n",
              "    }\n",
              "\n",
              "    .dataframe thead th {\n",
              "        text-align: right;\n",
              "    }\n",
              "</style>\n",
              "<table border=\"1\" class=\"dataframe\">\n",
              "  <thead>\n",
              "    <tr style=\"text-align: right;\">\n",
              "      <th></th>\n",
              "      <th>CustomerID</th>\n",
              "      <th>Item_Code</th>\n",
              "      <th>InvoieNo</th>\n",
              "      <th>Date_of_purchase</th>\n",
              "      <th>Quantity</th>\n",
              "      <th>Time</th>\n",
              "      <th>price_per_Unit</th>\n",
              "      <th>Price</th>\n",
              "      <th>Shipping_Location</th>\n",
              "      <th>Cancelled_status</th>\n",
              "      <th>Reason_of_return</th>\n",
              "      <th>Sold_as_set</th>\n",
              "      <th>year</th>\n",
              "      <th>month</th>\n",
              "    </tr>\n",
              "  </thead>\n",
              "  <tbody>\n",
              "    <tr>\n",
              "      <th>0</th>\n",
              "      <td>4355.0</td>\n",
              "      <td>15734</td>\n",
              "      <td>398177</td>\n",
              "      <td>2017-10-29</td>\n",
              "      <td>6</td>\n",
              "      <td>15:36:00</td>\n",
              "      <td>321.0</td>\n",
              "      <td>1926.0</td>\n",
              "      <td>Location 1</td>\n",
              "      <td>NaN</td>\n",
              "      <td>NaN</td>\n",
              "      <td>NaN</td>\n",
              "      <td>2017</td>\n",
              "      <td>10</td>\n",
              "    </tr>\n",
              "    <tr>\n",
              "      <th>1</th>\n",
              "      <td>4352.0</td>\n",
              "      <td>14616</td>\n",
              "      <td>394422</td>\n",
              "      <td>2017-10-05</td>\n",
              "      <td>2</td>\n",
              "      <td>14:53:00</td>\n",
              "      <td>870.0</td>\n",
              "      <td>1740.0</td>\n",
              "      <td>Location 1</td>\n",
              "      <td>NaN</td>\n",
              "      <td>NaN</td>\n",
              "      <td>NaN</td>\n",
              "      <td>2017</td>\n",
              "      <td>10</td>\n",
              "    </tr>\n",
              "    <tr>\n",
              "      <th>2</th>\n",
              "      <td>4352.0</td>\n",
              "      <td>14614</td>\n",
              "      <td>394422</td>\n",
              "      <td>2017-10-12</td>\n",
              "      <td>2</td>\n",
              "      <td>14:53:00</td>\n",
              "      <td>933.0</td>\n",
              "      <td>1866.0</td>\n",
              "      <td>Location 1</td>\n",
              "      <td>NaN</td>\n",
              "      <td>NaN</td>\n",
              "      <td>NaN</td>\n",
              "      <td>2017</td>\n",
              "      <td>10</td>\n",
              "    </tr>\n",
              "    <tr>\n",
              "      <th>3</th>\n",
              "      <td>4352.0</td>\n",
              "      <td>85014B</td>\n",
              "      <td>388633</td>\n",
              "      <td>2017-08-22</td>\n",
              "      <td>3</td>\n",
              "      <td>14:47:00</td>\n",
              "      <td>623.0</td>\n",
              "      <td>1869.0</td>\n",
              "      <td>Location 1</td>\n",
              "      <td>NaN</td>\n",
              "      <td>NaN</td>\n",
              "      <td>NaN</td>\n",
              "      <td>2017</td>\n",
              "      <td>8</td>\n",
              "    </tr>\n",
              "    <tr>\n",
              "      <th>4</th>\n",
              "      <td>4352.0</td>\n",
              "      <td>15364</td>\n",
              "      <td>394422</td>\n",
              "      <td>2017-10-10</td>\n",
              "      <td>2</td>\n",
              "      <td>14:53:00</td>\n",
              "      <td>944.0</td>\n",
              "      <td>1888.0</td>\n",
              "      <td>Location 1</td>\n",
              "      <td>NaN</td>\n",
              "      <td>NaN</td>\n",
              "      <td>NaN</td>\n",
              "      <td>2017</td>\n",
              "      <td>10</td>\n",
              "    </tr>\n",
              "  </tbody>\n",
              "</table>\n",
              "</div>"
            ],
            "text/plain": [
              "   CustomerID Item_Code  InvoieNo  ... Sold_as_set  year month\n",
              "0      4355.0     15734    398177  ...         NaN  2017    10\n",
              "1      4352.0     14616    394422  ...         NaN  2017    10\n",
              "2      4352.0     14614    394422  ...         NaN  2017    10\n",
              "3      4352.0    85014B    388633  ...         NaN  2017     8\n",
              "4      4352.0     15364    394422  ...         NaN  2017    10\n",
              "\n",
              "[5 rows x 14 columns]"
            ]
          },
          "metadata": {
            "tags": []
          },
          "execution_count": 19
        }
      ]
    },
    {
      "cell_type": "code",
      "metadata": {
        "id": "OjqXkCYw_l9I"
      },
      "source": [
        "\n",
        "data = df.copy()\n",
        "\n",
        "#data.drop(\"InvoieNo\",axis = 1, inplace = True)\n",
        "#data.drop(\"Date_of_purchase\",axis = 1, inplace = True)\n",
        "data.drop(\"Time\",axis = 1, inplace = True)\n",
        "#data.drop(\"price_per_Unit\",axis = 1, inplace = True)\n",
        "data.drop(\"Cancelled_status\",axis = 1, inplace = True)\n",
        "data.drop(\"Reason_of_return\",axis = 1, inplace = True)\n",
        "data.drop(\"Sold_as_set\",axis = 1, inplace = True)\n",
        "data.drop(\"Shipping_Location\",axis = 1, inplace = True)\n",
        "data.drop(\"Item_Code\",axis = 1, inplace = True)\n",
        "data.drop(\"year\",axis = 1, inplace = True)\n",
        "data.drop(\"month\",axis = 1, inplace = True)\n",
        "\n"
      ],
      "execution_count": null,
      "outputs": []
    },
    {
      "cell_type": "code",
      "metadata": {
        "colab": {
          "base_uri": "https://localhost:8080/",
          "height": 204
        },
        "id": "TJYI1TQ6963v",
        "outputId": "d0f8f8af-88a9-42bc-8e2f-e79004f686b6"
      },
      "source": [
        "data.head()"
      ],
      "execution_count": null,
      "outputs": [
        {
          "output_type": "execute_result",
          "data": {
            "text/html": [
              "<div>\n",
              "<style scoped>\n",
              "    .dataframe tbody tr th:only-of-type {\n",
              "        vertical-align: middle;\n",
              "    }\n",
              "\n",
              "    .dataframe tbody tr th {\n",
              "        vertical-align: top;\n",
              "    }\n",
              "\n",
              "    .dataframe thead th {\n",
              "        text-align: right;\n",
              "    }\n",
              "</style>\n",
              "<table border=\"1\" class=\"dataframe\">\n",
              "  <thead>\n",
              "    <tr style=\"text-align: right;\">\n",
              "      <th></th>\n",
              "      <th>CustomerID</th>\n",
              "      <th>InvoieNo</th>\n",
              "      <th>Date_of_purchase</th>\n",
              "      <th>Quantity</th>\n",
              "      <th>price_per_Unit</th>\n",
              "      <th>Price</th>\n",
              "    </tr>\n",
              "  </thead>\n",
              "  <tbody>\n",
              "    <tr>\n",
              "      <th>0</th>\n",
              "      <td>4355.0</td>\n",
              "      <td>398177</td>\n",
              "      <td>2017-10-29</td>\n",
              "      <td>6</td>\n",
              "      <td>321.0</td>\n",
              "      <td>1926.0</td>\n",
              "    </tr>\n",
              "    <tr>\n",
              "      <th>1</th>\n",
              "      <td>4352.0</td>\n",
              "      <td>394422</td>\n",
              "      <td>2017-10-05</td>\n",
              "      <td>2</td>\n",
              "      <td>870.0</td>\n",
              "      <td>1740.0</td>\n",
              "    </tr>\n",
              "    <tr>\n",
              "      <th>2</th>\n",
              "      <td>4352.0</td>\n",
              "      <td>394422</td>\n",
              "      <td>2017-10-12</td>\n",
              "      <td>2</td>\n",
              "      <td>933.0</td>\n",
              "      <td>1866.0</td>\n",
              "    </tr>\n",
              "    <tr>\n",
              "      <th>3</th>\n",
              "      <td>4352.0</td>\n",
              "      <td>388633</td>\n",
              "      <td>2017-08-22</td>\n",
              "      <td>3</td>\n",
              "      <td>623.0</td>\n",
              "      <td>1869.0</td>\n",
              "    </tr>\n",
              "    <tr>\n",
              "      <th>4</th>\n",
              "      <td>4352.0</td>\n",
              "      <td>394422</td>\n",
              "      <td>2017-10-10</td>\n",
              "      <td>2</td>\n",
              "      <td>944.0</td>\n",
              "      <td>1888.0</td>\n",
              "    </tr>\n",
              "  </tbody>\n",
              "</table>\n",
              "</div>"
            ],
            "text/plain": [
              "   CustomerID  InvoieNo Date_of_purchase  Quantity  price_per_Unit   Price\n",
              "0      4355.0    398177       2017-10-29         6           321.0  1926.0\n",
              "1      4352.0    394422       2017-10-05         2           870.0  1740.0\n",
              "2      4352.0    394422       2017-10-12         2           933.0  1866.0\n",
              "3      4352.0    388633       2017-08-22         3           623.0  1869.0\n",
              "4      4352.0    394422       2017-10-10         2           944.0  1888.0"
            ]
          },
          "metadata": {
            "tags": []
          },
          "execution_count": 21
        }
      ]
    },
    {
      "cell_type": "code",
      "metadata": {
        "id": "ATArB0zEAsq7"
      },
      "source": [
        "#Removing Duplicates Values \n",
        "\n",
        "data.drop_duplicates(subset=None, keep='first', inplace=True)"
      ],
      "execution_count": null,
      "outputs": []
    },
    {
      "cell_type": "code",
      "metadata": {
        "colab": {
          "base_uri": "https://localhost:8080/"
        },
        "id": "5cnpEvB6BFXY",
        "outputId": "4d1a9700-c999-4025-9aef-90ee8e267994"
      },
      "source": [
        "data.shape #approx 2000 duplicate record get removed"
      ],
      "execution_count": null,
      "outputs": [
        {
          "output_type": "execute_result",
          "data": {
            "text/plain": [
              "(536400, 6)"
            ]
          },
          "metadata": {
            "tags": []
          },
          "execution_count": 23
        }
      ]
    },
    {
      "cell_type": "code",
      "metadata": {
        "colab": {
          "base_uri": "https://localhost:8080/"
        },
        "id": "EnU1XQdaBIhG",
        "outputId": "f16bcfa4-ca49-4f4c-d683-5fa0c8ecfc44"
      },
      "source": [
        "data.isnull().sum()"
      ],
      "execution_count": null,
      "outputs": [
        {
          "output_type": "execute_result",
          "data": {
            "text/plain": [
              "CustomerID          132884\n",
              "InvoieNo                 0\n",
              "Date_of_purchase         0\n",
              "Quantity                 0\n",
              "price_per_Unit           0\n",
              "Price                    0\n",
              "dtype: int64"
            ]
          },
          "metadata": {
            "tags": []
          },
          "execution_count": 24
        }
      ]
    },
    {
      "cell_type": "code",
      "metadata": {
        "id": "FORCjqzuBpdg"
      },
      "source": [
        "data1 = data[data[\"CustomerID\"].notnull()]"
      ],
      "execution_count": null,
      "outputs": []
    },
    {
      "cell_type": "code",
      "metadata": {
        "colab": {
          "base_uri": "https://localhost:8080/",
          "height": 204
        },
        "id": "-GWPQ3XQEysZ",
        "outputId": "2434b392-2280-413f-aa5f-3be6f64f714d"
      },
      "source": [
        "data1.head()"
      ],
      "execution_count": null,
      "outputs": [
        {
          "output_type": "execute_result",
          "data": {
            "text/html": [
              "<div>\n",
              "<style scoped>\n",
              "    .dataframe tbody tr th:only-of-type {\n",
              "        vertical-align: middle;\n",
              "    }\n",
              "\n",
              "    .dataframe tbody tr th {\n",
              "        vertical-align: top;\n",
              "    }\n",
              "\n",
              "    .dataframe thead th {\n",
              "        text-align: right;\n",
              "    }\n",
              "</style>\n",
              "<table border=\"1\" class=\"dataframe\">\n",
              "  <thead>\n",
              "    <tr style=\"text-align: right;\">\n",
              "      <th></th>\n",
              "      <th>CustomerID</th>\n",
              "      <th>InvoieNo</th>\n",
              "      <th>Date_of_purchase</th>\n",
              "      <th>Quantity</th>\n",
              "      <th>price_per_Unit</th>\n",
              "      <th>Price</th>\n",
              "    </tr>\n",
              "  </thead>\n",
              "  <tbody>\n",
              "    <tr>\n",
              "      <th>0</th>\n",
              "      <td>4355.0</td>\n",
              "      <td>398177</td>\n",
              "      <td>2017-10-29</td>\n",
              "      <td>6</td>\n",
              "      <td>321.0</td>\n",
              "      <td>1926.0</td>\n",
              "    </tr>\n",
              "    <tr>\n",
              "      <th>1</th>\n",
              "      <td>4352.0</td>\n",
              "      <td>394422</td>\n",
              "      <td>2017-10-05</td>\n",
              "      <td>2</td>\n",
              "      <td>870.0</td>\n",
              "      <td>1740.0</td>\n",
              "    </tr>\n",
              "    <tr>\n",
              "      <th>2</th>\n",
              "      <td>4352.0</td>\n",
              "      <td>394422</td>\n",
              "      <td>2017-10-12</td>\n",
              "      <td>2</td>\n",
              "      <td>933.0</td>\n",
              "      <td>1866.0</td>\n",
              "    </tr>\n",
              "    <tr>\n",
              "      <th>3</th>\n",
              "      <td>4352.0</td>\n",
              "      <td>388633</td>\n",
              "      <td>2017-08-22</td>\n",
              "      <td>3</td>\n",
              "      <td>623.0</td>\n",
              "      <td>1869.0</td>\n",
              "    </tr>\n",
              "    <tr>\n",
              "      <th>4</th>\n",
              "      <td>4352.0</td>\n",
              "      <td>394422</td>\n",
              "      <td>2017-10-10</td>\n",
              "      <td>2</td>\n",
              "      <td>944.0</td>\n",
              "      <td>1888.0</td>\n",
              "    </tr>\n",
              "  </tbody>\n",
              "</table>\n",
              "</div>"
            ],
            "text/plain": [
              "   CustomerID  InvoieNo Date_of_purchase  Quantity  price_per_Unit   Price\n",
              "0      4355.0    398177       2017-10-29         6           321.0  1926.0\n",
              "1      4352.0    394422       2017-10-05         2           870.0  1740.0\n",
              "2      4352.0    394422       2017-10-12         2           933.0  1866.0\n",
              "3      4352.0    388633       2017-08-22         3           623.0  1869.0\n",
              "4      4352.0    394422       2017-10-10         2           944.0  1888.0"
            ]
          },
          "metadata": {
            "tags": []
          },
          "execution_count": 26
        }
      ]
    },
    {
      "cell_type": "code",
      "metadata": {
        "id": "Ir43lCuBE_YN"
      },
      "source": [
        "data1.to_csv(\"Ecommerce_data.csv\")"
      ],
      "execution_count": null,
      "outputs": []
    },
    {
      "cell_type": "code",
      "metadata": {
        "colab": {
          "base_uri": "https://localhost:8080/",
          "height": 34
        },
        "id": "gS3BrCXOL23Q",
        "outputId": "bf0aa975-4ef1-4f2e-c337-a388be044980"
      },
      "source": [
        "from google.colab import files\n",
        "files.download(\"Ecommerce_data.csv\")"
      ],
      "execution_count": null,
      "outputs": [
        {
          "output_type": "display_data",
          "data": {
            "application/javascript": [
              "\n",
              "    async function download(id, filename, size) {\n",
              "      if (!google.colab.kernel.accessAllowed) {\n",
              "        return;\n",
              "      }\n",
              "      const div = document.createElement('div');\n",
              "      const label = document.createElement('label');\n",
              "      label.textContent = `Downloading \"${filename}\": `;\n",
              "      div.appendChild(label);\n",
              "      const progress = document.createElement('progress');\n",
              "      progress.max = size;\n",
              "      div.appendChild(progress);\n",
              "      document.body.appendChild(div);\n",
              "\n",
              "      const buffers = [];\n",
              "      let downloaded = 0;\n",
              "\n",
              "      const channel = await google.colab.kernel.comms.open(id);\n",
              "      // Send a message to notify the kernel that we're ready.\n",
              "      channel.send({})\n",
              "\n",
              "      for await (const message of channel.messages) {\n",
              "        // Send a message to notify the kernel that we're ready.\n",
              "        channel.send({})\n",
              "        if (message.buffers) {\n",
              "          for (const buffer of message.buffers) {\n",
              "            buffers.push(buffer);\n",
              "            downloaded += buffer.byteLength;\n",
              "            progress.value = downloaded;\n",
              "          }\n",
              "        }\n",
              "      }\n",
              "      const blob = new Blob(buffers, {type: 'application/binary'});\n",
              "      const a = document.createElement('a');\n",
              "      a.href = window.URL.createObjectURL(blob);\n",
              "      a.download = filename;\n",
              "      div.appendChild(a);\n",
              "      a.click();\n",
              "      div.remove();\n",
              "    }\n",
              "  "
            ],
            "text/plain": [
              "<IPython.core.display.Javascript object>"
            ]
          },
          "metadata": {
            "tags": []
          }
        },
        {
          "output_type": "display_data",
          "data": {
            "application/javascript": [
              "download(\"download_46ffbd8f-c9be-4617-8cbc-62ad979e49b0\", \"Ecommerce_data.csv\", 19025603)"
            ],
            "text/plain": [
              "<IPython.core.display.Javascript object>"
            ]
          },
          "metadata": {
            "tags": []
          }
        }
      ]
    },
    {
      "cell_type": "code",
      "metadata": {
        "colab": {
          "base_uri": "https://localhost:8080/"
        },
        "id": "3JHKsl3tNirQ",
        "outputId": "70893b4b-b341-4cff-9cd4-f14663776b4f"
      },
      "source": [
        "data1.columns"
      ],
      "execution_count": null,
      "outputs": [
        {
          "output_type": "execute_result",
          "data": {
            "text/plain": [
              "Index(['CustomerID', 'InvoieNo', 'Date_of_purchase', 'Quantity',\n",
              "       'price_per_Unit', 'Price'],\n",
              "      dtype='object')"
            ]
          },
          "metadata": {
            "tags": []
          },
          "execution_count": 29
        }
      ]
    },
    {
      "cell_type": "code",
      "metadata": {
        "colab": {
          "base_uri": "https://localhost:8080/",
          "height": 282
        },
        "id": "Y6YYnNIvOk8O",
        "outputId": "e9d59d9b-700b-4a71-985d-ba7a01f2466c"
      },
      "source": [
        "data1[\"Price\"].hist()"
      ],
      "execution_count": null,
      "outputs": [
        {
          "output_type": "execute_result",
          "data": {
            "text/plain": [
              "<matplotlib.axes._subplots.AxesSubplot at 0x7f10e9bc2e90>"
            ]
          },
          "metadata": {
            "tags": []
          },
          "execution_count": 30
        },
        {
          "output_type": "display_data",
          "data": {
            "image/png": "[encoded data removed]",
            "text/plain": [
              "<Figure size 432x288 with 1 Axes>"
            ]
          },
          "metadata": {
            "tags": [],
            "needs_background": "light"
          }
        }
      ]
    },
    {
      "cell_type": "code",
      "metadata": {
        "id": "22avrTayQGvr",
        "colab": {
          "base_uri": "https://localhost:8080/"
        },
        "outputId": "1cd7a5b2-6779-4d9c-848d-d0702e95376c"
      },
      "source": [
        "data1.isnull().mean()"
      ],
      "execution_count": null,
      "outputs": [
        {
          "output_type": "execute_result",
          "data": {
            "text/plain": [
              "CustomerID          0.0\n",
              "InvoieNo            0.0\n",
              "Date_of_purchase    0.0\n",
              "Quantity            0.0\n",
              "price_per_Unit      0.0\n",
              "Price               0.0\n",
              "dtype: float64"
            ]
          },
          "metadata": {
            "tags": []
          },
          "execution_count": 31
        }
      ]
    },
    {
      "cell_type": "code",
      "metadata": {
        "id": "I3pJpbGd4y-i",
        "colab": {
          "base_uri": "https://localhost:8080/",
          "height": 204
        },
        "outputId": "0d34d9de-1ee0-470b-f7a3-bc98e9545b54"
      },
      "source": [
        "data1.head()"
      ],
      "execution_count": null,
      "outputs": [
        {
          "output_type": "execute_result",
          "data": {
            "text/html": [
              "<div>\n",
              "<style scoped>\n",
              "    .dataframe tbody tr th:only-of-type {\n",
              "        vertical-align: middle;\n",
              "    }\n",
              "\n",
              "    .dataframe tbody tr th {\n",
              "        vertical-align: top;\n",
              "    }\n",
              "\n",
              "    .dataframe thead th {\n",
              "        text-align: right;\n",
              "    }\n",
              "</style>\n",
              "<table border=\"1\" class=\"dataframe\">\n",
              "  <thead>\n",
              "    <tr style=\"text-align: right;\">\n",
              "      <th></th>\n",
              "      <th>CustomerID</th>\n",
              "      <th>InvoieNo</th>\n",
              "      <th>Date_of_purchase</th>\n",
              "      <th>Quantity</th>\n",
              "      <th>price_per_Unit</th>\n",
              "      <th>Price</th>\n",
              "    </tr>\n",
              "  </thead>\n",
              "  <tbody>\n",
              "    <tr>\n",
              "      <th>0</th>\n",
              "      <td>4355.0</td>\n",
              "      <td>398177</td>\n",
              "      <td>2017-10-29</td>\n",
              "      <td>6</td>\n",
              "      <td>321.0</td>\n",
              "      <td>1926.0</td>\n",
              "    </tr>\n",
              "    <tr>\n",
              "      <th>1</th>\n",
              "      <td>4352.0</td>\n",
              "      <td>394422</td>\n",
              "      <td>2017-10-05</td>\n",
              "      <td>2</td>\n",
              "      <td>870.0</td>\n",
              "      <td>1740.0</td>\n",
              "    </tr>\n",
              "    <tr>\n",
              "      <th>2</th>\n",
              "      <td>4352.0</td>\n",
              "      <td>394422</td>\n",
              "      <td>2017-10-12</td>\n",
              "      <td>2</td>\n",
              "      <td>933.0</td>\n",
              "      <td>1866.0</td>\n",
              "    </tr>\n",
              "    <tr>\n",
              "      <th>3</th>\n",
              "      <td>4352.0</td>\n",
              "      <td>388633</td>\n",
              "      <td>2017-08-22</td>\n",
              "      <td>3</td>\n",
              "      <td>623.0</td>\n",
              "      <td>1869.0</td>\n",
              "    </tr>\n",
              "    <tr>\n",
              "      <th>4</th>\n",
              "      <td>4352.0</td>\n",
              "      <td>394422</td>\n",
              "      <td>2017-10-10</td>\n",
              "      <td>2</td>\n",
              "      <td>944.0</td>\n",
              "      <td>1888.0</td>\n",
              "    </tr>\n",
              "  </tbody>\n",
              "</table>\n",
              "</div>"
            ],
            "text/plain": [
              "   CustomerID  InvoieNo Date_of_purchase  Quantity  price_per_Unit   Price\n",
              "0      4355.0    398177       2017-10-29         6           321.0  1926.0\n",
              "1      4352.0    394422       2017-10-05         2           870.0  1740.0\n",
              "2      4352.0    394422       2017-10-12         2           933.0  1866.0\n",
              "3      4352.0    388633       2017-08-22         3           623.0  1869.0\n",
              "4      4352.0    394422       2017-10-10         2           944.0  1888.0"
            ]
          },
          "metadata": {
            "tags": []
          },
          "execution_count": 32
        }
      ]
    },
    {
      "cell_type": "code",
      "metadata": {
        "colab": {
          "base_uri": "https://localhost:8080/"
        },
        "id": "lbVrxOztfpIC",
        "outputId": "c8adbb5a-7ade-4444-d81c-2ae458887171"
      },
      "source": [
        "data1.shape"
      ],
      "execution_count": null,
      "outputs": [
        {
          "output_type": "execute_result",
          "data": {
            "text/plain": [
              "(403516, 6)"
            ]
          },
          "metadata": {
            "tags": []
          },
          "execution_count": 33
        }
      ]
    },
    {
      "cell_type": "code",
      "metadata": {
        "colab": {
          "base_uri": "https://localhost:8080/"
        },
        "id": "YhWJ4R2ayrTq",
        "outputId": "20985a18-8c7c-43ba-b34a-d73d12e43bd1"
      },
      "source": [
        "data1['Date_of_purchase'].min(),data1['Date_of_purchase'].max()"
      ],
      "execution_count": null,
      "outputs": [
        {
          "output_type": "execute_result",
          "data": {
            "text/plain": [
              "(Timestamp('2016-12-02 00:00:00'), Timestamp('2017-12-19 00:00:00'))"
            ]
          },
          "metadata": {
            "tags": []
          },
          "execution_count": 34
        }
      ]
    },
    {
      "cell_type": "code",
      "metadata": {
        "id": "_4FLHNRrNs6l"
      },
      "source": [
        "data1['Date_of_purchase'].min(),data1['Date_of_purchase'].max()\n",
        "PRESENT = dt.datetime(2018,1,5)"
      ],
      "execution_count": null,
      "outputs": []
    },
    {
      "cell_type": "code",
      "metadata": {
        "colab": {
          "base_uri": "https://localhost:8080/",
          "height": 235
        },
        "id": "k7k_AVWmM1wP",
        "outputId": "b10445f8-b3bf-411c-811c-2e9aa64a4e5c"
      },
      "source": [
        "rfm = data1.groupby(\"CustomerID\").agg({\"Date_of_purchase\": lambda date: (PRESENT - date.max()).days, 'InvoieNo': lambda num: len(num),'Price': lambda price: price.sum()})\n",
        "\n",
        "\n",
        "rfm.columns\n",
        "# Change the name of columns\n",
        "rfm.columns=['Recency','Frequency','Monetary']\n",
        "rfm.head()"
      ],
      "execution_count": null,
      "outputs": [
        {
          "output_type": "execute_result",
          "data": {
            "text/html": [
              "<div>\n",
              "<style scoped>\n",
              "    .dataframe tbody tr th:only-of-type {\n",
              "        vertical-align: middle;\n",
              "    }\n",
              "\n",
              "    .dataframe tbody tr th {\n",
              "        vertical-align: top;\n",
              "    }\n",
              "\n",
              "    .dataframe thead th {\n",
              "        text-align: right;\n",
              "    }\n",
              "</style>\n",
              "<table border=\"1\" class=\"dataframe\">\n",
              "  <thead>\n",
              "    <tr style=\"text-align: right;\">\n",
              "      <th></th>\n",
              "      <th>Recency</th>\n",
              "      <th>Frequency</th>\n",
              "      <th>Monetary</th>\n",
              "    </tr>\n",
              "    <tr>\n",
              "      <th>CustomerID</th>\n",
              "      <th></th>\n",
              "      <th></th>\n",
              "      <th></th>\n",
              "    </tr>\n",
              "  </thead>\n",
              "  <tbody>\n",
              "    <tr>\n",
              "      <th>2.0</th>\n",
              "      <td>20</td>\n",
              "      <td>182</td>\n",
              "      <td>553704.0</td>\n",
              "    </tr>\n",
              "    <tr>\n",
              "      <th>3.0</th>\n",
              "      <td>93</td>\n",
              "      <td>27</td>\n",
              "      <td>257404.0</td>\n",
              "    </tr>\n",
              "    <tr>\n",
              "      <th>4.0</th>\n",
              "      <td>35</td>\n",
              "      <td>72</td>\n",
              "      <td>176613.0</td>\n",
              "    </tr>\n",
              "    <tr>\n",
              "      <th>5.0</th>\n",
              "      <td>327</td>\n",
              "      <td>16</td>\n",
              "      <td>41976.0</td>\n",
              "    </tr>\n",
              "    <tr>\n",
              "      <th>6.0</th>\n",
              "      <td>53</td>\n",
              "      <td>84</td>\n",
              "      <td>151822.0</td>\n",
              "    </tr>\n",
              "  </tbody>\n",
              "</table>\n",
              "</div>"
            ],
            "text/plain": [
              "            Recency  Frequency  Monetary\n",
              "CustomerID                              \n",
              "2.0              20        182  553704.0\n",
              "3.0              93         27  257404.0\n",
              "4.0              35         72  176613.0\n",
              "5.0             327         16   41976.0\n",
              "6.0              53         84  151822.0"
            ]
          },
          "metadata": {
            "tags": []
          },
          "execution_count": 36
        }
      ]
    },
    {
      "cell_type": "code",
      "metadata": {
        "colab": {
          "base_uri": "https://localhost:8080/",
          "height": 450
        },
        "id": "W5QpZHJ28lom",
        "outputId": "25c529e9-aab9-42c7-d895-10d2e162e0e9"
      },
      "source": [
        "rfm"
      ],
      "execution_count": null,
      "outputs": [
        {
          "output_type": "execute_result",
          "data": {
            "text/html": [
              "<div>\n",
              "<style scoped>\n",
              "    .dataframe tbody tr th:only-of-type {\n",
              "        vertical-align: middle;\n",
              "    }\n",
              "\n",
              "    .dataframe tbody tr th {\n",
              "        vertical-align: top;\n",
              "    }\n",
              "\n",
              "    .dataframe thead th {\n",
              "        text-align: right;\n",
              "    }\n",
              "</style>\n",
              "<table border=\"1\" class=\"dataframe\">\n",
              "  <thead>\n",
              "    <tr style=\"text-align: right;\">\n",
              "      <th></th>\n",
              "      <th>Recency</th>\n",
              "      <th>Frequency</th>\n",
              "      <th>Monetary</th>\n",
              "    </tr>\n",
              "    <tr>\n",
              "      <th>CustomerID</th>\n",
              "      <th></th>\n",
              "      <th></th>\n",
              "      <th></th>\n",
              "    </tr>\n",
              "  </thead>\n",
              "  <tbody>\n",
              "    <tr>\n",
              "      <th>2.0</th>\n",
              "      <td>20</td>\n",
              "      <td>182</td>\n",
              "      <td>553704.0</td>\n",
              "    </tr>\n",
              "    <tr>\n",
              "      <th>3.0</th>\n",
              "      <td>93</td>\n",
              "      <td>27</td>\n",
              "      <td>257404.0</td>\n",
              "    </tr>\n",
              "    <tr>\n",
              "      <th>4.0</th>\n",
              "      <td>35</td>\n",
              "      <td>72</td>\n",
              "      <td>176613.0</td>\n",
              "    </tr>\n",
              "    <tr>\n",
              "      <th>5.0</th>\n",
              "      <td>327</td>\n",
              "      <td>16</td>\n",
              "      <td>41976.0</td>\n",
              "    </tr>\n",
              "    <tr>\n",
              "      <th>6.0</th>\n",
              "      <td>53</td>\n",
              "      <td>84</td>\n",
              "      <td>151822.0</td>\n",
              "    </tr>\n",
              "    <tr>\n",
              "      <th>...</th>\n",
              "      <td>...</td>\n",
              "      <td>...</td>\n",
              "      <td>...</td>\n",
              "    </tr>\n",
              "    <tr>\n",
              "      <th>4368.0</th>\n",
              "      <td>294</td>\n",
              "      <td>10</td>\n",
              "      <td>20480.0</td>\n",
              "    </tr>\n",
              "    <tr>\n",
              "      <th>4369.0</th>\n",
              "      <td>197</td>\n",
              "      <td>7</td>\n",
              "      <td>10774.0</td>\n",
              "    </tr>\n",
              "    <tr>\n",
              "      <th>4370.0</th>\n",
              "      <td>25</td>\n",
              "      <td>13</td>\n",
              "      <td>24962.0</td>\n",
              "    </tr>\n",
              "    <tr>\n",
              "      <th>4371.0</th>\n",
              "      <td>20</td>\n",
              "      <td>752</td>\n",
              "      <td>280188.0</td>\n",
              "    </tr>\n",
              "    <tr>\n",
              "      <th>4372.0</th>\n",
              "      <td>60</td>\n",
              "      <td>69</td>\n",
              "      <td>260696.0</td>\n",
              "    </tr>\n",
              "  </tbody>\n",
              "</table>\n",
              "<p>4349 rows × 3 columns</p>\n",
              "</div>"
            ],
            "text/plain": [
              "            Recency  Frequency  Monetary\n",
              "CustomerID                              \n",
              "2.0              20        182  553704.0\n",
              "3.0              93         27  257404.0\n",
              "4.0              35         72  176613.0\n",
              "5.0             327         16   41976.0\n",
              "6.0              53         84  151822.0\n",
              "...             ...        ...       ...\n",
              "4368.0          294         10   20480.0\n",
              "4369.0          197          7   10774.0\n",
              "4370.0           25         13   24962.0\n",
              "4371.0           20        752  280188.0\n",
              "4372.0           60         69  260696.0\n",
              "\n",
              "[4349 rows x 3 columns]"
            ]
          },
          "metadata": {
            "tags": []
          },
          "execution_count": 37
        }
      ]
    },
    {
      "cell_type": "markdown",
      "metadata": {
        "id": "izO0-RGZ-QpB"
      },
      "source": [
        "Customers with lowest recency value and highest frequency & monetary to be considered as Best customer . We have used Quantile statistical techniques to assigning the score. In Quantiles techniques we have we can make 4 equal parts based on available values."
      ]
    },
    {
      "cell_type": "code",
      "metadata": {
        "colab": {
          "base_uri": "https://localhost:8080/",
          "height": 606
        },
        "id": "rljTvIVaPw_6",
        "outputId": "2a9c6bf2-1667-41a8-c182-24ac6f1c3507"
      },
      "source": [
        "# Plot RFM distributions\n",
        "plt.figure(figsize=(12,10))\n",
        "\n",
        "# Plot distribution of R\n",
        "plt.subplot(3, 1, 1); sns.distplot(rfm[\"Recency\"])\n",
        "# Plot distribution of F\n",
        "plt.subplot(3, 1, 2); sns.distplot(rfm[\"Frequency\"])\n",
        "# Plot distribution of M\n",
        "plt.subplot(3, 1, 3); sns.distplot(rfm[\"Monetary\"])\n",
        "# Show the plot\n",
        "plt.show()"
      ],
      "execution_count": null,
      "outputs": [
        {
          "output_type": "display_data",
          "data": {
            "image/png": "[encoded data removed]",
            "text/plain": [
              "<Figure size 864x720 with 3 Axes>"
            ]
          },
          "metadata": {
            "tags": [],
            "needs_background": "light"
          }
        }
      ]
    },
    {
      "cell_type": "markdown",
      "metadata": {
        "id": "mt5-UDULSi2b"
      },
      "source": [
        "This plot provides us with some very interesting insights and how skewed our data is. The important thing to take note here is that we will be grouping these values in quantiles. However, when we examine our customer segmentation using K-Means in the next, it will be very important to ensure that we scale our data to center the mean and standard deviations. More on that next time. Let us proceed with the .qcut() for our RFM."
      ]
    },
    {
      "cell_type": "code",
      "metadata": {
        "colab": {
          "base_uri": "https://localhost:8080/",
          "height": 235
        },
        "id": "PLC_2J85-gBJ",
        "outputId": "b8986326-ecc3-47de-f693-e78a4b03a628"
      },
      "source": [
        "#computing the Quantile of RFM value for segmentation\n",
        "\n",
        "rfm['R'] = pd.qcut(rfm['Recency'], 4, ['1','2','3','4'])\n",
        "rfm['F'] = pd.qcut(rfm['Frequency'], 4, ['4','3','2','1'])\n",
        "rfm['M'] = pd.qcut(rfm['Monetary'], 4, ['4','3','2','1'])\n",
        "rfm.head()"
      ],
      "execution_count": null,
      "outputs": [
        {
          "output_type": "execute_result",
          "data": {
            "text/html": [
              "<div>\n",
              "<style scoped>\n",
              "    .dataframe tbody tr th:only-of-type {\n",
              "        vertical-align: middle;\n",
              "    }\n",
              "\n",
              "    .dataframe tbody tr th {\n",
              "        vertical-align: top;\n",
              "    }\n",
              "\n",
              "    .dataframe thead th {\n",
              "        text-align: right;\n",
              "    }\n",
              "</style>\n",
              "<table border=\"1\" class=\"dataframe\">\n",
              "  <thead>\n",
              "    <tr style=\"text-align: right;\">\n",
              "      <th></th>\n",
              "      <th>Recency</th>\n",
              "      <th>Frequency</th>\n",
              "      <th>Monetary</th>\n",
              "      <th>R</th>\n",
              "      <th>F</th>\n",
              "      <th>M</th>\n",
              "    </tr>\n",
              "    <tr>\n",
              "      <th>CustomerID</th>\n",
              "      <th></th>\n",
              "      <th></th>\n",
              "      <th></th>\n",
              "      <th></th>\n",
              "      <th></th>\n",
              "      <th></th>\n",
              "    </tr>\n",
              "  </thead>\n",
              "  <tbody>\n",
              "    <tr>\n",
              "      <th>2.0</th>\n",
              "      <td>20</td>\n",
              "      <td>182</td>\n",
              "      <td>553704.0</td>\n",
              "      <td>1</td>\n",
              "      <td>1</td>\n",
              "      <td>1</td>\n",
              "    </tr>\n",
              "    <tr>\n",
              "      <th>3.0</th>\n",
              "      <td>93</td>\n",
              "      <td>27</td>\n",
              "      <td>257404.0</td>\n",
              "      <td>3</td>\n",
              "      <td>3</td>\n",
              "      <td>1</td>\n",
              "    </tr>\n",
              "    <tr>\n",
              "      <th>4.0</th>\n",
              "      <td>35</td>\n",
              "      <td>72</td>\n",
              "      <td>176613.0</td>\n",
              "      <td>2</td>\n",
              "      <td>2</td>\n",
              "      <td>2</td>\n",
              "    </tr>\n",
              "    <tr>\n",
              "      <th>5.0</th>\n",
              "      <td>327</td>\n",
              "      <td>16</td>\n",
              "      <td>41976.0</td>\n",
              "      <td>4</td>\n",
              "      <td>4</td>\n",
              "      <td>3</td>\n",
              "    </tr>\n",
              "    <tr>\n",
              "      <th>6.0</th>\n",
              "      <td>53</td>\n",
              "      <td>84</td>\n",
              "      <td>151822.0</td>\n",
              "      <td>2</td>\n",
              "      <td>2</td>\n",
              "      <td>2</td>\n",
              "    </tr>\n",
              "  </tbody>\n",
              "</table>\n",
              "</div>"
            ],
            "text/plain": [
              "            Recency  Frequency  Monetary  R  F  M\n",
              "CustomerID                                       \n",
              "2.0              20        182  553704.0  1  1  1\n",
              "3.0              93         27  257404.0  3  3  1\n",
              "4.0              35         72  176613.0  2  2  2\n",
              "5.0             327         16   41976.0  4  4  3\n",
              "6.0              53         84  151822.0  2  2  2"
            ]
          },
          "metadata": {
            "tags": []
          },
          "execution_count": 39
        }
      ]
    },
    {
      "cell_type": "markdown",
      "metadata": {
        "id": "c-F_KGk6_ooO"
      },
      "source": [
        "Now we can combine all three Quantile score in a single column, and it will help us to create the logic base Customer segmentation as per the business criteria.\n",
        "\n",
        "111 will be considered as the best performing customer as they have lowest recency and highest frequency and monetary. 444 will be the worst segment."
      ]
    },
    {
      "cell_type": "code",
      "metadata": {
        "id": "ZrkpDvfCD1we"
      },
      "source": [
        "#https://www.analyticseducator.com/Blog/Customer_Segmentation_Using_RFM_with_Python.html\n",
        "\n",
        "#https://towardsdatascience.com/recency-frequency-monetary-model-with-python-and-how-sephora-uses-it-to-optimize-their-google-d6a0707c5f17"
      ],
      "execution_count": null,
      "outputs": []
    },
    {
      "cell_type": "code",
      "metadata": {
        "id": "pvolHGD9FNFV",
        "colab": {
          "base_uri": "https://localhost:8080/",
          "height": 450
        },
        "outputId": "d12c8073-8fb8-4982-f211-08f0860754a2"
      },
      "source": [
        "rfm"
      ],
      "execution_count": null,
      "outputs": [
        {
          "output_type": "execute_result",
          "data": {
            "text/html": [
              "<div>\n",
              "<style scoped>\n",
              "    .dataframe tbody tr th:only-of-type {\n",
              "        vertical-align: middle;\n",
              "    }\n",
              "\n",
              "    .dataframe tbody tr th {\n",
              "        vertical-align: top;\n",
              "    }\n",
              "\n",
              "    .dataframe thead th {\n",
              "        text-align: right;\n",
              "    }\n",
              "</style>\n",
              "<table border=\"1\" class=\"dataframe\">\n",
              "  <thead>\n",
              "    <tr style=\"text-align: right;\">\n",
              "      <th></th>\n",
              "      <th>Recency</th>\n",
              "      <th>Frequency</th>\n",
              "      <th>Monetary</th>\n",
              "      <th>R</th>\n",
              "      <th>F</th>\n",
              "      <th>M</th>\n",
              "    </tr>\n",
              "    <tr>\n",
              "      <th>CustomerID</th>\n",
              "      <th></th>\n",
              "      <th></th>\n",
              "      <th></th>\n",
              "      <th></th>\n",
              "      <th></th>\n",
              "      <th></th>\n",
              "    </tr>\n",
              "  </thead>\n",
              "  <tbody>\n",
              "    <tr>\n",
              "      <th>2.0</th>\n",
              "      <td>20</td>\n",
              "      <td>182</td>\n",
              "      <td>553704.0</td>\n",
              "      <td>1</td>\n",
              "      <td>1</td>\n",
              "      <td>1</td>\n",
              "    </tr>\n",
              "    <tr>\n",
              "      <th>3.0</th>\n",
              "      <td>93</td>\n",
              "      <td>27</td>\n",
              "      <td>257404.0</td>\n",
              "      <td>3</td>\n",
              "      <td>3</td>\n",
              "      <td>1</td>\n",
              "    </tr>\n",
              "    <tr>\n",
              "      <th>4.0</th>\n",
              "      <td>35</td>\n",
              "      <td>72</td>\n",
              "      <td>176613.0</td>\n",
              "      <td>2</td>\n",
              "      <td>2</td>\n",
              "      <td>2</td>\n",
              "    </tr>\n",
              "    <tr>\n",
              "      <th>5.0</th>\n",
              "      <td>327</td>\n",
              "      <td>16</td>\n",
              "      <td>41976.0</td>\n",
              "      <td>4</td>\n",
              "      <td>4</td>\n",
              "      <td>3</td>\n",
              "    </tr>\n",
              "    <tr>\n",
              "      <th>6.0</th>\n",
              "      <td>53</td>\n",
              "      <td>84</td>\n",
              "      <td>151822.0</td>\n",
              "      <td>2</td>\n",
              "      <td>2</td>\n",
              "      <td>2</td>\n",
              "    </tr>\n",
              "    <tr>\n",
              "      <th>...</th>\n",
              "      <td>...</td>\n",
              "      <td>...</td>\n",
              "      <td>...</td>\n",
              "      <td>...</td>\n",
              "      <td>...</td>\n",
              "      <td>...</td>\n",
              "    </tr>\n",
              "    <tr>\n",
              "      <th>4368.0</th>\n",
              "      <td>294</td>\n",
              "      <td>10</td>\n",
              "      <td>20480.0</td>\n",
              "      <td>4</td>\n",
              "      <td>4</td>\n",
              "      <td>4</td>\n",
              "    </tr>\n",
              "    <tr>\n",
              "      <th>4369.0</th>\n",
              "      <td>197</td>\n",
              "      <td>7</td>\n",
              "      <td>10774.0</td>\n",
              "      <td>4</td>\n",
              "      <td>4</td>\n",
              "      <td>4</td>\n",
              "    </tr>\n",
              "    <tr>\n",
              "      <th>4370.0</th>\n",
              "      <td>25</td>\n",
              "      <td>13</td>\n",
              "      <td>24962.0</td>\n",
              "      <td>1</td>\n",
              "      <td>4</td>\n",
              "      <td>4</td>\n",
              "    </tr>\n",
              "    <tr>\n",
              "      <th>4371.0</th>\n",
              "      <td>20</td>\n",
              "      <td>752</td>\n",
              "      <td>280188.0</td>\n",
              "      <td>1</td>\n",
              "      <td>1</td>\n",
              "      <td>1</td>\n",
              "    </tr>\n",
              "    <tr>\n",
              "      <th>4372.0</th>\n",
              "      <td>60</td>\n",
              "      <td>69</td>\n",
              "      <td>260696.0</td>\n",
              "      <td>2</td>\n",
              "      <td>2</td>\n",
              "      <td>1</td>\n",
              "    </tr>\n",
              "  </tbody>\n",
              "</table>\n",
              "<p>4349 rows × 6 columns</p>\n",
              "</div>"
            ],
            "text/plain": [
              "            Recency  Frequency  Monetary  R  F  M\n",
              "CustomerID                                       \n",
              "2.0              20        182  553704.0  1  1  1\n",
              "3.0              93         27  257404.0  3  3  1\n",
              "4.0              35         72  176613.0  2  2  2\n",
              "5.0             327         16   41976.0  4  4  3\n",
              "6.0              53         84  151822.0  2  2  2\n",
              "...             ...        ...       ... .. .. ..\n",
              "4368.0          294         10   20480.0  4  4  4\n",
              "4369.0          197          7   10774.0  4  4  4\n",
              "4370.0           25         13   24962.0  1  4  4\n",
              "4371.0           20        752  280188.0  1  1  1\n",
              "4372.0           60         69  260696.0  2  2  1\n",
              "\n",
              "[4349 rows x 6 columns]"
            ]
          },
          "metadata": {
            "tags": []
          },
          "execution_count": 41
        }
      ]
    },
    {
      "cell_type": "code",
      "metadata": {
        "colab": {
          "base_uri": "https://localhost:8080/"
        },
        "id": "VySOYWRn5ef6",
        "outputId": "70980f52-f1a0-42dc-ca11-368d8c8543c3"
      },
      "source": [
        "rfm.R.value_counts()"
      ],
      "execution_count": null,
      "outputs": [
        {
          "output_type": "execute_result",
          "data": {
            "text/plain": [
              "1    1123\n",
              "4    1085\n",
              "3    1084\n",
              "2    1057\n",
              "Name: R, dtype: int64"
            ]
          },
          "metadata": {
            "tags": []
          },
          "execution_count": 42
        }
      ]
    },
    {
      "cell_type": "code",
      "metadata": {
        "colab": {
          "base_uri": "https://localhost:8080/"
        },
        "id": "8sxP1q7F51Qg",
        "outputId": "c682dd93-2bfb-42bb-c5a5-abe69a75c7d6"
      },
      "source": [
        "rfm.F.value_counts()"
      ],
      "execution_count": null,
      "outputs": [
        {
          "output_type": "execute_result",
          "data": {
            "text/plain": [
              "4    1102\n",
              "3    1097\n",
              "1    1085\n",
              "2    1065\n",
              "Name: F, dtype: int64"
            ]
          },
          "metadata": {
            "tags": []
          },
          "execution_count": 43
        }
      ]
    },
    {
      "cell_type": "code",
      "metadata": {
        "colab": {
          "base_uri": "https://localhost:8080/"
        },
        "id": "_r-ddX7p6knq",
        "outputId": "afd5c876-5c53-4619-a37d-511966f5b812"
      },
      "source": [
        "rfm.M.value_counts()"
      ],
      "execution_count": null,
      "outputs": [
        {
          "output_type": "execute_result",
          "data": {
            "text/plain": [
              "4    1088\n",
              "1    1087\n",
              "2    1087\n",
              "3    1087\n",
              "Name: M, dtype: int64"
            ]
          },
          "metadata": {
            "tags": []
          },
          "execution_count": 44
        }
      ]
    },
    {
      "cell_type": "code",
      "metadata": {
        "colab": {
          "base_uri": "https://localhost:8080/",
          "height": 387
        },
        "id": "tiOdQKVTSudK",
        "outputId": "1919e6d6-8d2b-4c2e-df7a-218eb6088663"
      },
      "source": [
        "import seaborn as sns\n",
        "\n",
        "fig, axes = plt.subplots(1, 3, figsize=(15, 5), sharey=True)\n",
        "fig.suptitle('Frequency of Recency, Frequency and Monetary Segement')\n",
        "\n",
        "# recency\n",
        "sns.countplot(rfm[\"R\"], ax=axes[0])\n",
        "axes[0].set_title(\"Recency\")\n",
        "\n",
        "# frequency\n",
        "sns.countplot(rfm[\"F\"], ax=axes[1],)\n",
        "axes[1].set_title(\"Frequency\")\n",
        "\n",
        "# monetary\n",
        "sns.countplot(rfm[\"M\"], ax=axes[2])\n",
        "axes[2].set_title(\"Monetary\")"
      ],
      "execution_count": null,
      "outputs": [
        {
          "output_type": "execute_result",
          "data": {
            "text/plain": [
              "Text(0.5, 1.0, 'Monetary')"
            ]
          },
          "metadata": {
            "tags": []
          },
          "execution_count": 45
        },
        {
          "output_type": "display_data",
          "data": {
            "image/png": "[encoded data removed]",
            "text/plain": [
              "<Figure size 1080x360 with 3 Axes>"
            ]
          },
          "metadata": {
            "tags": [],
            "needs_background": "light"
          }
        }
      ]
    },
    {
      "cell_type": "code",
      "metadata": {
        "colab": {
          "base_uri": "https://localhost:8080/",
          "height": 235
        },
        "id": "CKKtkIPiT5R7",
        "outputId": "83795f00-2f75-446b-9682-c00da6d2cadf"
      },
      "source": [
        "# Concat RFM quartile values to create RFM Segments\n",
        "def join_rfm(x): return str(x['R']) + str(x['F']) + str(x['M'])\n",
        "rfm['RFM_Segment_Concat'] = rfm.apply(join_rfm, axis=1)\n",
        "rfm.head()"
      ],
      "execution_count": null,
      "outputs": [
        {
          "output_type": "execute_result",
          "data": {
            "text/html": [
              "<div>\n",
              "<style scoped>\n",
              "    .dataframe tbody tr th:only-of-type {\n",
              "        vertical-align: middle;\n",
              "    }\n",
              "\n",
              "    .dataframe tbody tr th {\n",
              "        vertical-align: top;\n",
              "    }\n",
              "\n",
              "    .dataframe thead th {\n",
              "        text-align: right;\n",
              "    }\n",
              "</style>\n",
              "<table border=\"1\" class=\"dataframe\">\n",
              "  <thead>\n",
              "    <tr style=\"text-align: right;\">\n",
              "      <th></th>\n",
              "      <th>Recency</th>\n",
              "      <th>Frequency</th>\n",
              "      <th>Monetary</th>\n",
              "      <th>R</th>\n",
              "      <th>F</th>\n",
              "      <th>M</th>\n",
              "      <th>RFM_Segment_Concat</th>\n",
              "    </tr>\n",
              "    <tr>\n",
              "      <th>CustomerID</th>\n",
              "      <th></th>\n",
              "      <th></th>\n",
              "      <th></th>\n",
              "      <th></th>\n",
              "      <th></th>\n",
              "      <th></th>\n",
              "      <th></th>\n",
              "    </tr>\n",
              "  </thead>\n",
              "  <tbody>\n",
              "    <tr>\n",
              "      <th>2.0</th>\n",
              "      <td>20</td>\n",
              "      <td>182</td>\n",
              "      <td>553704.0</td>\n",
              "      <td>1</td>\n",
              "      <td>1</td>\n",
              "      <td>1</td>\n",
              "      <td>111</td>\n",
              "    </tr>\n",
              "    <tr>\n",
              "      <th>3.0</th>\n",
              "      <td>93</td>\n",
              "      <td>27</td>\n",
              "      <td>257404.0</td>\n",
              "      <td>3</td>\n",
              "      <td>3</td>\n",
              "      <td>1</td>\n",
              "      <td>331</td>\n",
              "    </tr>\n",
              "    <tr>\n",
              "      <th>4.0</th>\n",
              "      <td>35</td>\n",
              "      <td>72</td>\n",
              "      <td>176613.0</td>\n",
              "      <td>2</td>\n",
              "      <td>2</td>\n",
              "      <td>2</td>\n",
              "      <td>222</td>\n",
              "    </tr>\n",
              "    <tr>\n",
              "      <th>5.0</th>\n",
              "      <td>327</td>\n",
              "      <td>16</td>\n",
              "      <td>41976.0</td>\n",
              "      <td>4</td>\n",
              "      <td>4</td>\n",
              "      <td>3</td>\n",
              "      <td>443</td>\n",
              "    </tr>\n",
              "    <tr>\n",
              "      <th>6.0</th>\n",
              "      <td>53</td>\n",
              "      <td>84</td>\n",
              "      <td>151822.0</td>\n",
              "      <td>2</td>\n",
              "      <td>2</td>\n",
              "      <td>2</td>\n",
              "      <td>222</td>\n",
              "    </tr>\n",
              "  </tbody>\n",
              "</table>\n",
              "</div>"
            ],
            "text/plain": [
              "            Recency  Frequency  Monetary  R  F  M RFM_Segment_Concat\n",
              "CustomerID                                                          \n",
              "2.0              20        182  553704.0  1  1  1                111\n",
              "3.0              93         27  257404.0  3  3  1                331\n",
              "4.0              35         72  176613.0  2  2  2                222\n",
              "5.0             327         16   41976.0  4  4  3                443\n",
              "6.0              53         84  151822.0  2  2  2                222"
            ]
          },
          "metadata": {
            "tags": []
          },
          "execution_count": 46
        }
      ]
    },
    {
      "cell_type": "markdown",
      "metadata": {
        "id": "uhdZibhobchg"
      },
      "source": [
        "From the output, you can see that we have our concatenated segments ready to be used for our segmentation, but wait, there is one issue…"
      ]
    },
    {
      "cell_type": "code",
      "metadata": {
        "colab": {
          "base_uri": "https://localhost:8080/"
        },
        "id": "t0UszuKZbdaC",
        "outputId": "b0c56e15-d35a-4f26-bb77-5d29a73e3d59"
      },
      "source": [
        "# Count num of unique segments\n",
        "rfm_count_unique = rfm.groupby('RFM_Segment_Concat')['RFM_Segment_Concat'].nunique()\n",
        "print(rfm_count_unique.sum())"
      ],
      "execution_count": null,
      "outputs": [
        {
          "output_type": "stream",
          "text": [
            "61\n"
          ],
          "name": "stdout"
        }
      ]
    },
    {
      "cell_type": "markdown",
      "metadata": {
        "id": "iWxLR8TWbqr5"
      },
      "source": [
        "Having 62 different segments using the concatenate method quickly becomes unwieldy for any practical use. We will need a more concise way to define our segments."
      ]
    },
    {
      "cell_type": "markdown",
      "metadata": {
        "id": "DbX-LS5mbuXM"
      },
      "source": [
        "# Summing the Score\n",
        "One of the most straightforward methods is to sum our scores to a single number and define RFM levels for each score range."
      ]
    },
    {
      "cell_type": "code",
      "metadata": {
        "colab": {
          "base_uri": "https://localhost:8080/"
        },
        "id": "WvTiT3z2brb3",
        "outputId": "dac8ed0e-ecfc-4675-abc6-4ed64483be8f"
      },
      "source": [
        "# Calculate RFM_Score\n",
        "rfm['RFM_Score'] = rfm[['R', 'F', 'M']].apply(pd.to_numeric, errors='coerce').sum(axis=1)\n",
        "print(rfm['RFM_Score'].head())"
      ],
      "execution_count": null,
      "outputs": [
        {
          "output_type": "stream",
          "text": [
            "CustomerID\n",
            "2.0     3\n",
            "3.0     7\n",
            "4.0     6\n",
            "5.0    11\n",
            "6.0     6\n",
            "Name: RFM_Score, dtype: int64\n"
          ],
          "name": "stdout"
        }
      ]
    },
    {
      "cell_type": "markdown",
      "metadata": {
        "id": "rao6C_Drb83_"
      },
      "source": [
        "We can get creative and hypothesize about what each score range entails, but for this exercise I will take inspiration from some common segment names."
      ]
    },
    {
      "cell_type": "code",
      "metadata": {
        "colab": {
          "base_uri": "https://localhost:8080/",
          "height": 235
        },
        "id": "-Jws3vPgb96S",
        "outputId": "539cc6f2-37a0-45ae-92cd-62746d355d76"
      },
      "source": [
        "# Define rfm_level function\n",
        "def rfm_level(df):\n",
        "    if df['RFM_Score'] == 3:\n",
        "        return 'Can\\'t Loose Them'\n",
        "    elif ((df['RFM_Score'] >= 4) and (df['RFM_Score'] < 5)):\n",
        "        return 'Champions'\n",
        "    elif ((df['RFM_Score'] >= 5) and (df['RFM_Score'] < 6)):\n",
        "        return 'Loyal'\n",
        "    elif ((df['RFM_Score'] >= 6) and (df['RFM_Score'] < 7)):\n",
        "        return 'Potential'\n",
        "    elif ((df['RFM_Score'] >= 7) and (df['RFM_Score'] < 8)):\n",
        "        return 'Promising'\n",
        "    elif ((df['RFM_Score'] >= 8) and (df['RFM_Score'] < 9)):\n",
        "        return 'Needs Attention'\n",
        "    else:\n",
        "        return 'Require Activation'\n",
        "# Create a new variable RFM_Level\n",
        "rfm['RFM_Level'] = rfm.apply(rfm_level, axis=1)\n",
        "# Print the header with top 5 rows to the console\n",
        "rfm.head()"
      ],
      "execution_count": null,
      "outputs": [
        {
          "output_type": "execute_result",
          "data": {
            "text/html": [
              "<div>\n",
              "<style scoped>\n",
              "    .dataframe tbody tr th:only-of-type {\n",
              "        vertical-align: middle;\n",
              "    }\n",
              "\n",
              "    .dataframe tbody tr th {\n",
              "        vertical-align: top;\n",
              "    }\n",
              "\n",
              "    .dataframe thead th {\n",
              "        text-align: right;\n",
              "    }\n",
              "</style>\n",
              "<table border=\"1\" class=\"dataframe\">\n",
              "  <thead>\n",
              "    <tr style=\"text-align: right;\">\n",
              "      <th></th>\n",
              "      <th>Recency</th>\n",
              "      <th>Frequency</th>\n",
              "      <th>Monetary</th>\n",
              "      <th>R</th>\n",
              "      <th>F</th>\n",
              "      <th>M</th>\n",
              "      <th>RFM_Segment_Concat</th>\n",
              "      <th>RFM_Score</th>\n",
              "      <th>RFM_Level</th>\n",
              "    </tr>\n",
              "    <tr>\n",
              "      <th>CustomerID</th>\n",
              "      <th></th>\n",
              "      <th></th>\n",
              "      <th></th>\n",
              "      <th></th>\n",
              "      <th></th>\n",
              "      <th></th>\n",
              "      <th></th>\n",
              "      <th></th>\n",
              "      <th></th>\n",
              "    </tr>\n",
              "  </thead>\n",
              "  <tbody>\n",
              "    <tr>\n",
              "      <th>2.0</th>\n",
              "      <td>20</td>\n",
              "      <td>182</td>\n",
              "      <td>553704.0</td>\n",
              "      <td>1</td>\n",
              "      <td>1</td>\n",
              "      <td>1</td>\n",
              "      <td>111</td>\n",
              "      <td>3</td>\n",
              "      <td>Can't Loose Them</td>\n",
              "    </tr>\n",
              "    <tr>\n",
              "      <th>3.0</th>\n",
              "      <td>93</td>\n",
              "      <td>27</td>\n",
              "      <td>257404.0</td>\n",
              "      <td>3</td>\n",
              "      <td>3</td>\n",
              "      <td>1</td>\n",
              "      <td>331</td>\n",
              "      <td>7</td>\n",
              "      <td>Promising</td>\n",
              "    </tr>\n",
              "    <tr>\n",
              "      <th>4.0</th>\n",
              "      <td>35</td>\n",
              "      <td>72</td>\n",
              "      <td>176613.0</td>\n",
              "      <td>2</td>\n",
              "      <td>2</td>\n",
              "      <td>2</td>\n",
              "      <td>222</td>\n",
              "      <td>6</td>\n",
              "      <td>Potential</td>\n",
              "    </tr>\n",
              "    <tr>\n",
              "      <th>5.0</th>\n",
              "      <td>327</td>\n",
              "      <td>16</td>\n",
              "      <td>41976.0</td>\n",
              "      <td>4</td>\n",
              "      <td>4</td>\n",
              "      <td>3</td>\n",
              "      <td>443</td>\n",
              "      <td>11</td>\n",
              "      <td>Require Activation</td>\n",
              "    </tr>\n",
              "    <tr>\n",
              "      <th>6.0</th>\n",
              "      <td>53</td>\n",
              "      <td>84</td>\n",
              "      <td>151822.0</td>\n",
              "      <td>2</td>\n",
              "      <td>2</td>\n",
              "      <td>2</td>\n",
              "      <td>222</td>\n",
              "      <td>6</td>\n",
              "      <td>Potential</td>\n",
              "    </tr>\n",
              "  </tbody>\n",
              "</table>\n",
              "</div>"
            ],
            "text/plain": [
              "            Recency  Frequency  ...  RFM_Score           RFM_Level\n",
              "CustomerID                      ...                               \n",
              "2.0              20        182  ...          3    Can't Loose Them\n",
              "3.0              93         27  ...          7           Promising\n",
              "4.0              35         72  ...          6           Potential\n",
              "5.0             327         16  ...         11  Require Activation\n",
              "6.0              53         84  ...          6           Potential\n",
              "\n",
              "[5 rows x 9 columns]"
            ]
          },
          "metadata": {
            "tags": []
          },
          "execution_count": 49
        }
      ]
    },
    {
      "cell_type": "code",
      "metadata": {
        "id": "CFAZGIY3oIQq"
      },
      "source": [
        "#Finally, we can then group our customers by their RFM level."
      ],
      "execution_count": null,
      "outputs": []
    },
    {
      "cell_type": "code",
      "metadata": {
        "colab": {
          "base_uri": "https://localhost:8080/"
        },
        "id": "_yAjwQRka08j",
        "outputId": "96e9d071-5f16-4c9f-8251-0458aaa7f019"
      },
      "source": [
        "# Calculate average values for each RFM_Level, and return a size of each segment \n",
        "rfm_level_agg = rfm.groupby('RFM_Level').agg({\n",
        "    'Recency': 'mean',\n",
        "    'Frequency': 'mean',\n",
        "    'Monetary': ['mean', 'count']\n",
        "}).round(1)\n",
        "# Print the aggregated dataset\n",
        "print(rfm_level_agg)"
      ],
      "execution_count": null,
      "outputs": [
        {
          "output_type": "stream",
          "text": [
            "                   Recency Frequency   Monetary      \n",
            "                      mean      mean       mean count\n",
            "RFM_Level                                            \n",
            "Can't Loose Them      23.7     370.6  1033220.7   471\n",
            "Champions             37.7     189.2   454344.1   372\n",
            "Loyal                 48.6     114.7   247332.9   439\n",
            "Needs Attention       97.3      39.6    92082.5   447\n",
            "Potential             62.7      79.2   171519.2   404\n",
            "Promising             78.9      56.9   120675.6   460\n",
            "Require Activation   184.4      18.4    39175.5  1756\n"
          ],
          "name": "stdout"
        }
      ]
    },
    {
      "cell_type": "markdown",
      "metadata": {
        "id": "cqc7g-sxbVWR"
      },
      "source": [
        "#From here, we can see that a large percentage (~60%) of our customers are in the top tier RFM levels. The store must be doing something right to be maintaining their loyalty!\n",
        "\n",
        "##The other 40% will need some work. Let’s explore using some ads to re-target them:\n",
        "\n",
        "- Can't loose them - Store regular customers, whome store never want to loose.\n",
        "\n",
        "- Potential — high potential to enter our loyal customer segments, why not throw in some freebies on their next purchase to show that you value them!\n",
        "\n",
        "- Promising — showing promising signs with quantity and value of their purchase but it has been a while since they last bought sometime from you. Let’s target them with their wishlist items and a limited time offer discount.\n",
        "\n",
        "- Needs Attention — made some initial purchase but have not seen them since. Was it a bad customer experience? Or product-market fit? Let’s spend some resource build our brand awareness with them.\n",
        "\n",
        "- Require Activation — Poorest performers of our RFM model. They might have went with our competitors for now and will require a different activation strategy to win them back."
      ]
    },
    {
      "cell_type": "code",
      "metadata": {
        "colab": {
          "base_uri": "https://localhost:8080/"
        },
        "id": "ARyfjU4CbpmH",
        "outputId": "62a3a252-d16e-4562-e663-dc00428ecaf7"
      },
      "source": [
        "# But before we end, let’s create a nice visualization for our data.\n",
        "\n",
        "!pip install squarify"
      ],
      "execution_count": null,
      "outputs": [
        {
          "output_type": "stream",
          "text": [
            "Collecting squarify\n",
            "  Downloading https://files.pythonhosted.org/packages/0b/2b/2e77c35326efec19819cd1d729540d4d235e6c2a3f37658288a363a67da5/squarify-0.4.3-py3-none-any.whl\n",
            "Installing collected packages: squarify\n",
            "Successfully installed squarify-0.4.3\n"
          ],
          "name": "stdout"
        }
      ]
    },
    {
      "cell_type": "code",
      "metadata": {
        "id": "qednLkGjb0hv"
      },
      "source": [
        "import squarify"
      ],
      "execution_count": null,
      "outputs": []
    },
    {
      "cell_type": "code",
      "metadata": {
        "id": "Dvka9EtpsX4T",
        "colab": {
          "base_uri": "https://localhost:8080/",
          "height": 594
        },
        "outputId": "bd50fc1e-f9c9-4b1e-f257-588930685227"
      },
      "source": [
        "count = [471,372,439,447,404,460,1756]\n",
        "\n",
        "plt.figure(figsize=(20,10))\n",
        "\n",
        "squarify.plot(count, label=['Can\\'t Loose Them',\n",
        "                     'Champions',\n",
        "                     'Loyal',\n",
        "                     'Needs Attention',\n",
        "                     'Potential', \n",
        "                     'Promising', \n",
        "                     'Require Activation'], alpha=.6 )\n",
        "\n",
        "plt.title(\"RFM Segments\",fontsize=18,fontweight=\"bold\")\n",
        "plt.axis('off')\n",
        "plt.show()\n"
      ],
      "execution_count": null,
      "outputs": [
        {
          "output_type": "display_data",
          "data": {
            "image/png": "[encoded data removed]",
            "text/plain": [
              "<Figure size 1440x720 with 1 Axes>"
            ]
          },
          "metadata": {
            "tags": [],
            "needs_background": "light"
          }
        }
      ]
    },
    {
      "cell_type": "code",
      "metadata": {
        "id": "GgGI_hpWepqu",
        "colab": {
          "base_uri": "https://localhost:8080/",
          "height": 450
        },
        "outputId": "d4ec25e5-c7e8-49c7-814a-64b6ba11e6a9"
      },
      "source": [
        "rfm"
      ],
      "execution_count": null,
      "outputs": [
        {
          "output_type": "execute_result",
          "data": {
            "text/html": [
              "<div>\n",
              "<style scoped>\n",
              "    .dataframe tbody tr th:only-of-type {\n",
              "        vertical-align: middle;\n",
              "    }\n",
              "\n",
              "    .dataframe tbody tr th {\n",
              "        vertical-align: top;\n",
              "    }\n",
              "\n",
              "    .dataframe thead th {\n",
              "        text-align: right;\n",
              "    }\n",
              "</style>\n",
              "<table border=\"1\" class=\"dataframe\">\n",
              "  <thead>\n",
              "    <tr style=\"text-align: right;\">\n",
              "      <th></th>\n",
              "      <th>Recency</th>\n",
              "      <th>Frequency</th>\n",
              "      <th>Monetary</th>\n",
              "      <th>R</th>\n",
              "      <th>F</th>\n",
              "      <th>M</th>\n",
              "      <th>RFM_Segment_Concat</th>\n",
              "      <th>RFM_Score</th>\n",
              "      <th>RFM_Level</th>\n",
              "    </tr>\n",
              "    <tr>\n",
              "      <th>CustomerID</th>\n",
              "      <th></th>\n",
              "      <th></th>\n",
              "      <th></th>\n",
              "      <th></th>\n",
              "      <th></th>\n",
              "      <th></th>\n",
              "      <th></th>\n",
              "      <th></th>\n",
              "      <th></th>\n",
              "    </tr>\n",
              "  </thead>\n",
              "  <tbody>\n",
              "    <tr>\n",
              "      <th>2.0</th>\n",
              "      <td>20</td>\n",
              "      <td>182</td>\n",
              "      <td>553704.0</td>\n",
              "      <td>1</td>\n",
              "      <td>1</td>\n",
              "      <td>1</td>\n",
              "      <td>111</td>\n",
              "      <td>3</td>\n",
              "      <td>Can't Loose Them</td>\n",
              "    </tr>\n",
              "    <tr>\n",
              "      <th>3.0</th>\n",
              "      <td>93</td>\n",
              "      <td>27</td>\n",
              "      <td>257404.0</td>\n",
              "      <td>3</td>\n",
              "      <td>3</td>\n",
              "      <td>1</td>\n",
              "      <td>331</td>\n",
              "      <td>7</td>\n",
              "      <td>Promising</td>\n",
              "    </tr>\n",
              "    <tr>\n",
              "      <th>4.0</th>\n",
              "      <td>35</td>\n",
              "      <td>72</td>\n",
              "      <td>176613.0</td>\n",
              "      <td>2</td>\n",
              "      <td>2</td>\n",
              "      <td>2</td>\n",
              "      <td>222</td>\n",
              "      <td>6</td>\n",
              "      <td>Potential</td>\n",
              "    </tr>\n",
              "    <tr>\n",
              "      <th>5.0</th>\n",
              "      <td>327</td>\n",
              "      <td>16</td>\n",
              "      <td>41976.0</td>\n",
              "      <td>4</td>\n",
              "      <td>4</td>\n",
              "      <td>3</td>\n",
              "      <td>443</td>\n",
              "      <td>11</td>\n",
              "      <td>Require Activation</td>\n",
              "    </tr>\n",
              "    <tr>\n",
              "      <th>6.0</th>\n",
              "      <td>53</td>\n",
              "      <td>84</td>\n",
              "      <td>151822.0</td>\n",
              "      <td>2</td>\n",
              "      <td>2</td>\n",
              "      <td>2</td>\n",
              "      <td>222</td>\n",
              "      <td>6</td>\n",
              "      <td>Potential</td>\n",
              "    </tr>\n",
              "    <tr>\n",
              "      <th>...</th>\n",
              "      <td>...</td>\n",
              "      <td>...</td>\n",
              "      <td>...</td>\n",
              "      <td>...</td>\n",
              "      <td>...</td>\n",
              "      <td>...</td>\n",
              "      <td>...</td>\n",
              "      <td>...</td>\n",
              "      <td>...</td>\n",
              "    </tr>\n",
              "    <tr>\n",
              "      <th>4368.0</th>\n",
              "      <td>294</td>\n",
              "      <td>10</td>\n",
              "      <td>20480.0</td>\n",
              "      <td>4</td>\n",
              "      <td>4</td>\n",
              "      <td>4</td>\n",
              "      <td>444</td>\n",
              "      <td>12</td>\n",
              "      <td>Require Activation</td>\n",
              "    </tr>\n",
              "    <tr>\n",
              "      <th>4369.0</th>\n",
              "      <td>197</td>\n",
              "      <td>7</td>\n",
              "      <td>10774.0</td>\n",
              "      <td>4</td>\n",
              "      <td>4</td>\n",
              "      <td>4</td>\n",
              "      <td>444</td>\n",
              "      <td>12</td>\n",
              "      <td>Require Activation</td>\n",
              "    </tr>\n",
              "    <tr>\n",
              "      <th>4370.0</th>\n",
              "      <td>25</td>\n",
              "      <td>13</td>\n",
              "      <td>24962.0</td>\n",
              "      <td>1</td>\n",
              "      <td>4</td>\n",
              "      <td>4</td>\n",
              "      <td>144</td>\n",
              "      <td>9</td>\n",
              "      <td>Require Activation</td>\n",
              "    </tr>\n",
              "    <tr>\n",
              "      <th>4371.0</th>\n",
              "      <td>20</td>\n",
              "      <td>752</td>\n",
              "      <td>280188.0</td>\n",
              "      <td>1</td>\n",
              "      <td>1</td>\n",
              "      <td>1</td>\n",
              "      <td>111</td>\n",
              "      <td>3</td>\n",
              "      <td>Can't Loose Them</td>\n",
              "    </tr>\n",
              "    <tr>\n",
              "      <th>4372.0</th>\n",
              "      <td>60</td>\n",
              "      <td>69</td>\n",
              "      <td>260696.0</td>\n",
              "      <td>2</td>\n",
              "      <td>2</td>\n",
              "      <td>1</td>\n",
              "      <td>221</td>\n",
              "      <td>5</td>\n",
              "      <td>Loyal</td>\n",
              "    </tr>\n",
              "  </tbody>\n",
              "</table>\n",
              "<p>4349 rows × 9 columns</p>\n",
              "</div>"
            ],
            "text/plain": [
              "            Recency  Frequency  ...  RFM_Score           RFM_Level\n",
              "CustomerID                      ...                               \n",
              "2.0              20        182  ...          3    Can't Loose Them\n",
              "3.0              93         27  ...          7           Promising\n",
              "4.0              35         72  ...          6           Potential\n",
              "5.0             327         16  ...         11  Require Activation\n",
              "6.0              53         84  ...          6           Potential\n",
              "...             ...        ...  ...        ...                 ...\n",
              "4368.0          294         10  ...         12  Require Activation\n",
              "4369.0          197          7  ...         12  Require Activation\n",
              "4370.0           25         13  ...          9  Require Activation\n",
              "4371.0           20        752  ...          3    Can't Loose Them\n",
              "4372.0           60         69  ...          5               Loyal\n",
              "\n",
              "[4349 rows x 9 columns]"
            ]
          },
          "metadata": {
            "tags": []
          },
          "execution_count": 55
        }
      ]
    },
    {
      "cell_type": "code",
      "metadata": {
        "id": "1Fy77P_5fc-O"
      },
      "source": [
        "rfm.to_csv(\"Ecommerece_RFM.csv\")"
      ],
      "execution_count": null,
      "outputs": []
    },
    {
      "cell_type": "code",
      "metadata": {
        "colab": {
          "base_uri": "https://localhost:8080/",
          "height": 34
        },
        "id": "pRhrbV_YijOk",
        "outputId": "b13cc638-3bb0-47b4-93da-580a85e302dd"
      },
      "source": [
        "from google.colab import files\n",
        "files.download('Ecommerece_RFM.csv')"
      ],
      "execution_count": null,
      "outputs": [
        {
          "output_type": "display_data",
          "data": {
            "application/javascript": [
              "\n",
              "    async function download(id, filename, size) {\n",
              "      if (!google.colab.kernel.accessAllowed) {\n",
              "        return;\n",
              "      }\n",
              "      const div = document.createElement('div');\n",
              "      const label = document.createElement('label');\n",
              "      label.textContent = `Downloading \"${filename}\": `;\n",
              "      div.appendChild(label);\n",
              "      const progress = document.createElement('progress');\n",
              "      progress.max = size;\n",
              "      div.appendChild(progress);\n",
              "      document.body.appendChild(div);\n",
              "\n",
              "      const buffers = [];\n",
              "      let downloaded = 0;\n",
              "\n",
              "      const channel = await google.colab.kernel.comms.open(id);\n",
              "      // Send a message to notify the kernel that we're ready.\n",
              "      channel.send({})\n",
              "\n",
              "      for await (const message of channel.messages) {\n",
              "        // Send a message to notify the kernel that we're ready.\n",
              "        channel.send({})\n",
              "        if (message.buffers) {\n",
              "          for (const buffer of message.buffers) {\n",
              "            buffers.push(buffer);\n",
              "            downloaded += buffer.byteLength;\n",
              "            progress.value = downloaded;\n",
              "          }\n",
              "        }\n",
              "      }\n",
              "      const blob = new Blob(buffers, {type: 'application/binary'});\n",
              "      const a = document.createElement('a');\n",
              "      a.href = window.URL.createObjectURL(blob);\n",
              "      a.download = filename;\n",
              "      div.appendChild(a);\n",
              "      a.click();\n",
              "      div.remove();\n",
              "    }\n",
              "  "
            ],
            "text/plain": [
              "<IPython.core.display.Javascript object>"
            ]
          },
          "metadata": {
            "tags": []
          }
        },
        {
          "output_type": "display_data",
          "data": {
            "application/javascript": [
              "download(\"download_494d10be-0dd1-4a19-8dc6-43d4e2f1b66e\", \"Ecommerece_RFM.csv\", 211480)"
            ],
            "text/plain": [
              "<IPython.core.display.Javascript object>"
            ]
          },
          "metadata": {
            "tags": []
          }
        }
      ]
    },
    {
      "cell_type": "code",
      "metadata": {
        "colab": {
          "base_uri": "https://localhost:8080/"
        },
        "id": "QESWi4Uq4pHn",
        "outputId": "27f999a7-b381-4c3f-e8af-5573bcf55e3b"
      },
      "source": [
        "rfm[\"RFM_Level\"].value_counts()"
      ],
      "execution_count": null,
      "outputs": [
        {
          "output_type": "execute_result",
          "data": {
            "text/plain": [
              "Require Activation    1756\n",
              "Can't Loose Them       471\n",
              "Promising              460\n",
              "Needs Attention        447\n",
              "Loyal                  439\n",
              "Potential              404\n",
              "Champions              372\n",
              "Name: RFM_Level, dtype: int64"
            ]
          },
          "metadata": {
            "tags": []
          },
          "execution_count": 58
        }
      ]
    },
    {
      "cell_type": "code",
      "metadata": {
        "colab": {
          "base_uri": "https://localhost:8080/",
          "height": 374
        },
        "id": "BC2CcGzC4pBI",
        "outputId": "a94cc09e-b08f-4035-ffd0-12407ee520f7"
      },
      "source": [
        "plt.figure(figsize=(12,6))\n",
        "rfm[\"RFM_Level\"].value_counts().plot()\n",
        "plt.show()"
      ],
      "execution_count": null,
      "outputs": [
        {
          "output_type": "display_data",
          "data": {
            "image/png": "[encoded data removed]",
            "text/plain": [
              "<Figure size 864x432 with 1 Axes>"
            ]
          },
          "metadata": {
            "tags": [],
            "needs_background": "light"
          }
        }
      ]
    },
    {
      "cell_type": "code",
      "metadata": {
        "colab": {
          "base_uri": "https://localhost:8080/",
          "height": 406
        },
        "id": "8-oDN0AW4o6Y",
        "outputId": "65772b8c-fbb0-4f52-b309-308742c7579e"
      },
      "source": [
        "import seaborn as sns\n",
        "plt.figure(figsize=(12,6))\n",
        "sns.countplot(rfm[\"RFM_Level\"])"
      ],
      "execution_count": null,
      "outputs": [
        {
          "output_type": "execute_result",
          "data": {
            "text/plain": [
              "<matplotlib.axes._subplots.AxesSubplot at 0x7f11311f8310>"
            ]
          },
          "metadata": {
            "tags": []
          },
          "execution_count": 60
        },
        {
          "output_type": "display_data",
          "data": {
            "image/png": "[encoded data removed]",
            "text/plain": [
              "<Figure size 864x432 with 1 Axes>"
            ]
          },
          "metadata": {
            "tags": [],
            "needs_background": "light"
          }
        }
      ]
    },
    {
      "cell_type": "code",
      "metadata": {
        "id": "FAK8qFV94ozU"
      },
      "source": [
        ""
      ],
      "execution_count": null,
      "outputs": []
    },
    {
      "cell_type": "code",
      "metadata": {
        "id": "PhGIWBeL4ol7"
      },
      "source": [
        ""
      ],
      "execution_count": null,
      "outputs": []
    },
    {
      "cell_type": "markdown",
      "metadata": {
        "id": "5dHj782K6_Z6"
      },
      "source": [
        "# Classification of 4349 customers using Kmeans clustering approach!!!"
      ]
    },
    {
      "cell_type": "code",
      "metadata": {
        "id": "70ljpoWB4oc7"
      },
      "source": [
        "cls_data = rfm.copy()"
      ],
      "execution_count": null,
      "outputs": []
    },
    {
      "cell_type": "code",
      "metadata": {
        "colab": {
          "base_uri": "https://localhost:8080/"
        },
        "id": "L01hZbxS4oXE",
        "outputId": "0fd977ba-25de-4254-c6ad-4d2872eb703c"
      },
      "source": [
        "cls_data.columns"
      ],
      "execution_count": null,
      "outputs": [
        {
          "output_type": "execute_result",
          "data": {
            "text/plain": [
              "Index(['Recency', 'Frequency', 'Monetary', 'R', 'F', 'M', 'RFM_Segment_Concat',\n",
              "       'RFM_Score', 'RFM_Level'],\n",
              "      dtype='object')"
            ]
          },
          "metadata": {
            "tags": []
          },
          "execution_count": 62
        }
      ]
    },
    {
      "cell_type": "code",
      "metadata": {
        "id": "g2O98nHm4oLR"
      },
      "source": [
        "cls_data = cls_data.iloc[:,0:3]"
      ],
      "execution_count": null,
      "outputs": []
    },
    {
      "cell_type": "code",
      "metadata": {
        "colab": {
          "base_uri": "https://localhost:8080/",
          "height": 450
        },
        "id": "fWTtmLAB4oFL",
        "outputId": "804967cb-d286-44a6-e6db-76f1a30408b0"
      },
      "source": [
        "cls_data"
      ],
      "execution_count": null,
      "outputs": [
        {
          "output_type": "execute_result",
          "data": {
            "text/html": [
              "<div>\n",
              "<style scoped>\n",
              "    .dataframe tbody tr th:only-of-type {\n",
              "        vertical-align: middle;\n",
              "    }\n",
              "\n",
              "    .dataframe tbody tr th {\n",
              "        vertical-align: top;\n",
              "    }\n",
              "\n",
              "    .dataframe thead th {\n",
              "        text-align: right;\n",
              "    }\n",
              "</style>\n",
              "<table border=\"1\" class=\"dataframe\">\n",
              "  <thead>\n",
              "    <tr style=\"text-align: right;\">\n",
              "      <th></th>\n",
              "      <th>Recency</th>\n",
              "      <th>Frequency</th>\n",
              "      <th>Monetary</th>\n",
              "    </tr>\n",
              "    <tr>\n",
              "      <th>CustomerID</th>\n",
              "      <th></th>\n",
              "      <th></th>\n",
              "      <th></th>\n",
              "    </tr>\n",
              "  </thead>\n",
              "  <tbody>\n",
              "    <tr>\n",
              "      <th>2.0</th>\n",
              "      <td>20</td>\n",
              "      <td>182</td>\n",
              "      <td>553704.0</td>\n",
              "    </tr>\n",
              "    <tr>\n",
              "      <th>3.0</th>\n",
              "      <td>93</td>\n",
              "      <td>27</td>\n",
              "      <td>257404.0</td>\n",
              "    </tr>\n",
              "    <tr>\n",
              "      <th>4.0</th>\n",
              "      <td>35</td>\n",
              "      <td>72</td>\n",
              "      <td>176613.0</td>\n",
              "    </tr>\n",
              "    <tr>\n",
              "      <th>5.0</th>\n",
              "      <td>327</td>\n",
              "      <td>16</td>\n",
              "      <td>41976.0</td>\n",
              "    </tr>\n",
              "    <tr>\n",
              "      <th>6.0</th>\n",
              "      <td>53</td>\n",
              "      <td>84</td>\n",
              "      <td>151822.0</td>\n",
              "    </tr>\n",
              "    <tr>\n",
              "      <th>...</th>\n",
              "      <td>...</td>\n",
              "      <td>...</td>\n",
              "      <td>...</td>\n",
              "    </tr>\n",
              "    <tr>\n",
              "      <th>4368.0</th>\n",
              "      <td>294</td>\n",
              "      <td>10</td>\n",
              "      <td>20480.0</td>\n",
              "    </tr>\n",
              "    <tr>\n",
              "      <th>4369.0</th>\n",
              "      <td>197</td>\n",
              "      <td>7</td>\n",
              "      <td>10774.0</td>\n",
              "    </tr>\n",
              "    <tr>\n",
              "      <th>4370.0</th>\n",
              "      <td>25</td>\n",
              "      <td>13</td>\n",
              "      <td>24962.0</td>\n",
              "    </tr>\n",
              "    <tr>\n",
              "      <th>4371.0</th>\n",
              "      <td>20</td>\n",
              "      <td>752</td>\n",
              "      <td>280188.0</td>\n",
              "    </tr>\n",
              "    <tr>\n",
              "      <th>4372.0</th>\n",
              "      <td>60</td>\n",
              "      <td>69</td>\n",
              "      <td>260696.0</td>\n",
              "    </tr>\n",
              "  </tbody>\n",
              "</table>\n",
              "<p>4349 rows × 3 columns</p>\n",
              "</div>"
            ],
            "text/plain": [
              "            Recency  Frequency  Monetary\n",
              "CustomerID                              \n",
              "2.0              20        182  553704.0\n",
              "3.0              93         27  257404.0\n",
              "4.0              35         72  176613.0\n",
              "5.0             327         16   41976.0\n",
              "6.0              53         84  151822.0\n",
              "...             ...        ...       ...\n",
              "4368.0          294         10   20480.0\n",
              "4369.0          197          7   10774.0\n",
              "4370.0           25         13   24962.0\n",
              "4371.0           20        752  280188.0\n",
              "4372.0           60         69  260696.0\n",
              "\n",
              "[4349 rows x 3 columns]"
            ]
          },
          "metadata": {
            "tags": []
          },
          "execution_count": 64
        }
      ]
    },
    {
      "cell_type": "code",
      "metadata": {
        "colab": {
          "base_uri": "https://localhost:8080/",
          "height": 279
        },
        "id": "pNTjLRaD4n9T",
        "outputId": "ead8fe34-4ea9-406a-9705-d81c05bf1ae0"
      },
      "source": [
        "sns.boxplot(cls_data['Recency'])\n",
        "plt.show()"
      ],
      "execution_count": null,
      "outputs": [
        {
          "output_type": "display_data",
          "data": {
            "image/png": "[encoded data removed]",
            "text/plain": [
              "<Figure size 432x288 with 1 Axes>"
            ]
          },
          "metadata": {
            "tags": [],
            "needs_background": "light"
          }
        }
      ]
    },
    {
      "cell_type": "code",
      "metadata": {
        "colab": {
          "base_uri": "https://localhost:8080/",
          "height": 279
        },
        "id": "wrhyMtn64n2w",
        "outputId": "ffcd7938-3f74-4fe9-8361-663c0759d24a"
      },
      "source": [
        "sns.boxplot(cls_data['Frequency'])\n",
        "plt.show()"
      ],
      "execution_count": null,
      "outputs": [
        {
          "output_type": "display_data",
          "data": {
            "image/png": "[encoded data removed]",
            "text/plain": [
              "<Figure size 432x288 with 1 Axes>"
            ]
          },
          "metadata": {
            "tags": [],
            "needs_background": "light"
          }
        }
      ]
    },
    {
      "cell_type": "code",
      "metadata": {
        "colab": {
          "base_uri": "https://localhost:8080/",
          "height": 279
        },
        "id": "CpIQoBcP4nlo",
        "outputId": "470142f9-5060-4637-c77a-a40758b2f2b8"
      },
      "source": [
        "sns.boxplot(cls_data['Monetary'])\n",
        "plt.show()"
      ],
      "execution_count": null,
      "outputs": [
        {
          "output_type": "display_data",
          "data": {
            "image/png": "[encoded data removed]",
            "text/plain": [
              "<Figure size 432x288 with 1 Axes>"
            ]
          },
          "metadata": {
            "tags": [],
            "needs_background": "light"
          }
        }
      ]
    },
    {
      "cell_type": "markdown",
      "metadata": {
        "id": "4T2x2faE_rOP"
      },
      "source": [
        "# Data Processing\n",
        "A common practice employed prior to any analysis using distance calculations is to normalize or z-score standardize the features so that each utilizes the same range. By doing so, you can avoid a problem in which some features come to dominate solely because they have a larger range of values than the others.\n",
        "\n",
        "The process of z-score standardization rescales features so that they have a mean of zero and a standard deviation of one. This transformation changes the interpretation of the data in a way that may be useful here."
      ]
    },
    {
      "cell_type": "code",
      "metadata": {
        "id": "g3KTaHc74nd3"
      },
      "source": [
        "names = cls_data.columns[0:3]\n",
        "scaled_feature = cls_data.copy()"
      ],
      "execution_count": null,
      "outputs": []
    },
    {
      "cell_type": "code",
      "metadata": {
        "colab": {
          "base_uri": "https://localhost:8080/",
          "height": 235
        },
        "id": "GXSJMIav4nwp",
        "outputId": "616e7810-e864-4e5a-e787-7778a272308f"
      },
      "source": [
        "features = scaled_feature[names]\n",
        "features.head()"
      ],
      "execution_count": null,
      "outputs": [
        {
          "output_type": "execute_result",
          "data": {
            "text/html": [
              "<div>\n",
              "<style scoped>\n",
              "    .dataframe tbody tr th:only-of-type {\n",
              "        vertical-align: middle;\n",
              "    }\n",
              "\n",
              "    .dataframe tbody tr th {\n",
              "        vertical-align: top;\n",
              "    }\n",
              "\n",
              "    .dataframe thead th {\n",
              "        text-align: right;\n",
              "    }\n",
              "</style>\n",
              "<table border=\"1\" class=\"dataframe\">\n",
              "  <thead>\n",
              "    <tr style=\"text-align: right;\">\n",
              "      <th></th>\n",
              "      <th>Recency</th>\n",
              "      <th>Frequency</th>\n",
              "      <th>Monetary</th>\n",
              "    </tr>\n",
              "    <tr>\n",
              "      <th>CustomerID</th>\n",
              "      <th></th>\n",
              "      <th></th>\n",
              "      <th></th>\n",
              "    </tr>\n",
              "  </thead>\n",
              "  <tbody>\n",
              "    <tr>\n",
              "      <th>2.0</th>\n",
              "      <td>20</td>\n",
              "      <td>182</td>\n",
              "      <td>553704.0</td>\n",
              "    </tr>\n",
              "    <tr>\n",
              "      <th>3.0</th>\n",
              "      <td>93</td>\n",
              "      <td>27</td>\n",
              "      <td>257404.0</td>\n",
              "    </tr>\n",
              "    <tr>\n",
              "      <th>4.0</th>\n",
              "      <td>35</td>\n",
              "      <td>72</td>\n",
              "      <td>176613.0</td>\n",
              "    </tr>\n",
              "    <tr>\n",
              "      <th>5.0</th>\n",
              "      <td>327</td>\n",
              "      <td>16</td>\n",
              "      <td>41976.0</td>\n",
              "    </tr>\n",
              "    <tr>\n",
              "      <th>6.0</th>\n",
              "      <td>53</td>\n",
              "      <td>84</td>\n",
              "      <td>151822.0</td>\n",
              "    </tr>\n",
              "  </tbody>\n",
              "</table>\n",
              "</div>"
            ],
            "text/plain": [
              "            Recency  Frequency  Monetary\n",
              "CustomerID                              \n",
              "2.0              20        182  553704.0\n",
              "3.0              93         27  257404.0\n",
              "4.0              35         72  176613.0\n",
              "5.0             327         16   41976.0\n",
              "6.0              53         84  151822.0"
            ]
          },
          "metadata": {
            "tags": []
          },
          "execution_count": 69
        }
      ]
    },
    {
      "cell_type": "code",
      "metadata": {
        "id": "Qnhm-oB_4nJj"
      },
      "source": [
        "from sklearn.preprocessing import StandardScaler\n",
        "scaler = StandardScaler().fit(features.values)"
      ],
      "execution_count": null,
      "outputs": []
    },
    {
      "cell_type": "code",
      "metadata": {
        "id": "LdPVKYPWA1g-"
      },
      "source": [
        "features = scaler.transform(features.values)"
      ],
      "execution_count": null,
      "outputs": []
    },
    {
      "cell_type": "code",
      "metadata": {
        "colab": {
          "base_uri": "https://localhost:8080/",
          "height": 235
        },
        "id": "Ah3qc-cEA4I9",
        "outputId": "3ce2c809-e2a9-45c7-ac00-2e9e81b02fff"
      },
      "source": [
        "scaled_feature[names] = features\n",
        "scaled_feature.head()"
      ],
      "execution_count": null,
      "outputs": [
        {
          "output_type": "execute_result",
          "data": {
            "text/html": [
              "<div>\n",
              "<style scoped>\n",
              "    .dataframe tbody tr th:only-of-type {\n",
              "        vertical-align: middle;\n",
              "    }\n",
              "\n",
              "    .dataframe tbody tr th {\n",
              "        vertical-align: top;\n",
              "    }\n",
              "\n",
              "    .dataframe thead th {\n",
              "        text-align: right;\n",
              "    }\n",
              "</style>\n",
              "<table border=\"1\" class=\"dataframe\">\n",
              "  <thead>\n",
              "    <tr style=\"text-align: right;\">\n",
              "      <th></th>\n",
              "      <th>Recency</th>\n",
              "      <th>Frequency</th>\n",
              "      <th>Monetary</th>\n",
              "    </tr>\n",
              "    <tr>\n",
              "      <th>CustomerID</th>\n",
              "      <th></th>\n",
              "      <th></th>\n",
              "      <th></th>\n",
              "    </tr>\n",
              "  </thead>\n",
              "  <tbody>\n",
              "    <tr>\n",
              "      <th>2.0</th>\n",
              "      <td>-0.886877</td>\n",
              "      <td>0.385626</td>\n",
              "      <td>0.378333</td>\n",
              "    </tr>\n",
              "    <tr>\n",
              "      <th>3.0</th>\n",
              "      <td>-0.161877</td>\n",
              "      <td>-0.284341</td>\n",
              "      <td>0.032341</td>\n",
              "    </tr>\n",
              "    <tr>\n",
              "      <th>4.0</th>\n",
              "      <td>-0.737904</td>\n",
              "      <td>-0.089834</td>\n",
              "      <td>-0.061999</td>\n",
              "    </tr>\n",
              "    <tr>\n",
              "      <th>5.0</th>\n",
              "      <td>2.162093</td>\n",
              "      <td>-0.331887</td>\n",
              "      <td>-0.219216</td>\n",
              "    </tr>\n",
              "    <tr>\n",
              "      <th>6.0</th>\n",
              "      <td>-0.559137</td>\n",
              "      <td>-0.037966</td>\n",
              "      <td>-0.090948</td>\n",
              "    </tr>\n",
              "  </tbody>\n",
              "</table>\n",
              "</div>"
            ],
            "text/plain": [
              "             Recency  Frequency  Monetary\n",
              "CustomerID                               \n",
              "2.0        -0.886877   0.385626  0.378333\n",
              "3.0        -0.161877  -0.284341  0.032341\n",
              "4.0        -0.737904  -0.089834 -0.061999\n",
              "5.0         2.162093  -0.331887 -0.219216\n",
              "6.0        -0.559137  -0.037966 -0.090948"
            ]
          },
          "metadata": {
            "tags": []
          },
          "execution_count": 72
        }
      ]
    },
    {
      "cell_type": "markdown",
      "metadata": {
        "id": "8F8WthLuCnf4"
      },
      "source": [
        "# K-means Algorithm"
      ]
    },
    {
      "cell_type": "code",
      "metadata": {
        "id": "aD7si3ZtDTvB"
      },
      "source": [
        "from sklearn.cluster import KMeans"
      ],
      "execution_count": null,
      "outputs": []
    },
    {
      "cell_type": "markdown",
      "metadata": {
        "id": "dfFDrZkECybD"
      },
      "source": [
        "# Determining Optimal Clusters\n",
        "While working with clusters, you need to specify the number of clusters to use. You would like to utilize the optimal number of clusters. To help you in determining the optimal clusters, there are three popular methods –\n",
        "\n",
        "- Elbow method\n",
        "\n",
        "- Silhouette method\n",
        "\n",
        "- Gap statistic"
      ]
    },
    {
      "cell_type": "markdown",
      "metadata": {
        "id": "Hn2wiW6WDGnw"
      },
      "source": [
        "# Elbow Method"
      ]
    },
    {
      "cell_type": "code",
      "metadata": {
        "colab": {
          "base_uri": "https://localhost:8080/",
          "height": 295
        },
        "id": "2UibuunNA4AS",
        "outputId": "a112e305-27e4-4172-ff36-f7f160dde05f"
      },
      "source": [
        "# Creating a function with KMeans to plot \"The Elbow Curve\"\n",
        "\n",
        "wcss = []\n",
        "for i in range(1,20):\n",
        "    kmeans = KMeans(n_clusters=i,init='k-means++' ,max_iter=300,random_state=0)\n",
        "    kmeans.fit(scaled_feature)\n",
        "    wcss.append(kmeans.inertia_)\n",
        "    \n",
        "plt.plot(range(1,20),wcss) \n",
        "plt.title('THe Elbow Curve')\n",
        "plt.xlabel('Number of Clusters')\n",
        "plt.ylabel(\"WCSS\") #WCSS stands for total within-cluster sum of sqaure\n",
        "plt.show()"
      ],
      "execution_count": null,
      "outputs": [
        {
          "output_type": "display_data",
          "data": {
            "image/png": "[encoded data removed]",
            "text/plain": [
              "<Figure size 432x288 with 1 Axes>"
            ]
          },
          "metadata": {
            "tags": [],
            "needs_background": "light"
          }
        }
      ]
    },
    {
      "cell_type": "markdown",
      "metadata": {
        "id": "4As1iOfvDxo2"
      },
      "source": [
        "The location of a bend (knee) in the plot is generally considered as an indicator of the appropriate number of clusters. Our Elbow point is around cluster size of 5. "
      ]
    },
    {
      "cell_type": "markdown",
      "metadata": {
        "id": "Ax3kM4FaERbu"
      },
      "source": [
        "# Average Silhouette Method"
      ]
    },
    {
      "cell_type": "code",
      "metadata": {
        "colab": {
          "base_uri": "https://localhost:8080/"
        },
        "id": "n4ulHy7nA3xA",
        "outputId": "55f5cac7-8a5e-43f8-e024-2ec59e405c64"
      },
      "source": [
        "from sklearn import datasets\n",
        "from sklearn.cluster import KMeans\n",
        "from sklearn.metrics import silhouette_score\n",
        "\n",
        "# Instantiate the KMeans models\n",
        "\n",
        "for i in [2,3,4,5,6]:\n",
        "  km = KMeans(n_clusters=i,init='k-means++', n_init=10, max_iter=100, random_state=42)\n",
        "\n",
        "  # Fit the KMeans model\n",
        "  km.fit_predict(scaled_feature)\n",
        "\n",
        "  # Calculate Silhoutte Score\n",
        "  score = silhouette_score(scaled_feature, km.labels_, metric='euclidean')\n",
        "\n",
        "  # Print the score\n",
        "  print('Silhouetter Score for {} clusters is {}'.format(i,score))\n"
      ],
      "execution_count": null,
      "outputs": [
        {
          "output_type": "stream",
          "text": [
            "Silhouetter Score for 2 clusters is 0.9260547657582795\n",
            "Silhouetter Score for 3 clusters is 0.5960624833352669\n",
            "Silhouetter Score for 4 clusters is 0.5974472542255794\n",
            "Silhouetter Score for 5 clusters is 0.5968411173743919\n",
            "Silhouetter Score for 6 clusters is 0.5857374804091415\n"
          ],
          "name": "stdout"
        }
      ]
    },
    {
      "cell_type": "markdown",
      "metadata": {
        "id": "NlAtwGE4Tzry"
      },
      "source": [
        "# Fit K-Means clustering for k=5"
      ]
    },
    {
      "cell_type": "code",
      "metadata": {
        "colab": {
          "base_uri": "https://localhost:8080/"
        },
        "id": "-0yT7pP_Ohyn",
        "outputId": "615e68c5-67f7-472f-c263-701f84d0970e"
      },
      "source": [
        "kmeans = KMeans(n_clusters=5)\n",
        "kmeans.fit(scaled_feature)"
      ],
      "execution_count": null,
      "outputs": [
        {
          "output_type": "execute_result",
          "data": {
            "text/plain": [
              "KMeans(algorithm='auto', copy_x=True, init='k-means++', max_iter=300,\n",
              "       n_clusters=5, n_init=10, n_jobs=None, precompute_distances='auto',\n",
              "       random_state=None, tol=0.0001, verbose=0)"
            ]
          },
          "metadata": {
            "tags": []
          },
          "execution_count": 91
        }
      ]
    },
    {
      "cell_type": "code",
      "metadata": {
        "colab": {
          "base_uri": "https://localhost:8080/"
        },
        "id": "P0slQY0ROYt3",
        "outputId": "84109c95-6bd2-42b5-9243-4b2b092aa735"
      },
      "source": [
        "len(kmeans.labels_)"
      ],
      "execution_count": null,
      "outputs": [
        {
          "output_type": "execute_result",
          "data": {
            "text/plain": [
              "4349"
            ]
          },
          "metadata": {
            "tags": []
          },
          "execution_count": 92
        }
      ]
    },
    {
      "cell_type": "code",
      "metadata": {
        "colab": {
          "base_uri": "https://localhost:8080/"
        },
        "id": "iBDZhHu_OYmg",
        "outputId": "77c4d330-dcd9-47af-fc09-3976ef79026c"
      },
      "source": [
        "kmeans.fit_predict(scaled_feature)"
      ],
      "execution_count": null,
      "outputs": [
        {
          "output_type": "execute_result",
          "data": {
            "text/plain": [
              "array([0, 0, 0, ..., 0, 3, 0], dtype=int32)"
            ]
          },
          "metadata": {
            "tags": []
          },
          "execution_count": 93
        }
      ]
    },
    {
      "cell_type": "code",
      "metadata": {
        "id": "c8h_dWthOYdu"
      },
      "source": [
        "cls_data['cluster'] = kmeans.labels_"
      ],
      "execution_count": null,
      "outputs": []
    },
    {
      "cell_type": "code",
      "metadata": {
        "colab": {
          "base_uri": "https://localhost:8080/",
          "height": 235
        },
        "id": "lEVNaXvhOYXE",
        "outputId": "d9ca6b54-48a6-4aaf-8422-6dd3a04d7899"
      },
      "source": [
        "cls_data.head()"
      ],
      "execution_count": null,
      "outputs": [
        {
          "output_type": "execute_result",
          "data": {
            "text/html": [
              "<div>\n",
              "<style scoped>\n",
              "    .dataframe tbody tr th:only-of-type {\n",
              "        vertical-align: middle;\n",
              "    }\n",
              "\n",
              "    .dataframe tbody tr th {\n",
              "        vertical-align: top;\n",
              "    }\n",
              "\n",
              "    .dataframe thead th {\n",
              "        text-align: right;\n",
              "    }\n",
              "</style>\n",
              "<table border=\"1\" class=\"dataframe\">\n",
              "  <thead>\n",
              "    <tr style=\"text-align: right;\">\n",
              "      <th></th>\n",
              "      <th>Recency</th>\n",
              "      <th>Frequency</th>\n",
              "      <th>Monetary</th>\n",
              "      <th>cluster</th>\n",
              "    </tr>\n",
              "    <tr>\n",
              "      <th>CustomerID</th>\n",
              "      <th></th>\n",
              "      <th></th>\n",
              "      <th></th>\n",
              "      <th></th>\n",
              "    </tr>\n",
              "  </thead>\n",
              "  <tbody>\n",
              "    <tr>\n",
              "      <th>2.0</th>\n",
              "      <td>20</td>\n",
              "      <td>182</td>\n",
              "      <td>553704.0</td>\n",
              "      <td>0</td>\n",
              "    </tr>\n",
              "    <tr>\n",
              "      <th>3.0</th>\n",
              "      <td>93</td>\n",
              "      <td>27</td>\n",
              "      <td>257404.0</td>\n",
              "      <td>0</td>\n",
              "    </tr>\n",
              "    <tr>\n",
              "      <th>4.0</th>\n",
              "      <td>35</td>\n",
              "      <td>72</td>\n",
              "      <td>176613.0</td>\n",
              "      <td>0</td>\n",
              "    </tr>\n",
              "    <tr>\n",
              "      <th>5.0</th>\n",
              "      <td>327</td>\n",
              "      <td>16</td>\n",
              "      <td>41976.0</td>\n",
              "      <td>1</td>\n",
              "    </tr>\n",
              "    <tr>\n",
              "      <th>6.0</th>\n",
              "      <td>53</td>\n",
              "      <td>84</td>\n",
              "      <td>151822.0</td>\n",
              "      <td>0</td>\n",
              "    </tr>\n",
              "  </tbody>\n",
              "</table>\n",
              "</div>"
            ],
            "text/plain": [
              "            Recency  Frequency  Monetary  cluster\n",
              "CustomerID                                       \n",
              "2.0              20        182  553704.0        0\n",
              "3.0              93         27  257404.0        0\n",
              "4.0              35         72  176613.0        0\n",
              "5.0             327         16   41976.0        1\n",
              "6.0              53         84  151822.0        0"
            ]
          },
          "metadata": {
            "tags": []
          },
          "execution_count": 95
        }
      ]
    },
    {
      "cell_type": "markdown",
      "metadata": {
        "id": "owACWILOVIXi"
      },
      "source": [
        "# Interpreting Clustering Results"
      ]
    },
    {
      "cell_type": "code",
      "metadata": {
        "colab": {
          "base_uri": "https://localhost:8080/"
        },
        "id": "ppqPRWbtOYBd",
        "outputId": "103b9f6e-b3b0-4ca6-ea49-17fae76c15bb"
      },
      "source": [
        "cls_data[\"cluster\"].value_counts()"
      ],
      "execution_count": null,
      "outputs": [
        {
          "output_type": "execute_result",
          "data": {
            "text/plain": [
              "0    2949\n",
              "1    1063\n",
              "3     322\n",
              "2      11\n",
              "4       4\n",
              "Name: cluster, dtype: int64"
            ]
          },
          "metadata": {
            "tags": []
          },
          "execution_count": 96
        }
      ]
    },
    {
      "cell_type": "code",
      "metadata": {
        "colab": {
          "base_uri": "https://localhost:8080/",
          "height": 296
        },
        "id": "XsR4QUBuVoNo",
        "outputId": "2960ccc5-c986-4d7d-9fc6-02e7798dcac4"
      },
      "source": [
        "sns.countplot(cls_data[\"cluster\"])"
      ],
      "execution_count": null,
      "outputs": [
        {
          "output_type": "execute_result",
          "data": {
            "text/plain": [
              "<matplotlib.axes._subplots.AxesSubplot at 0x7f10e743b7d0>"
            ]
          },
          "metadata": {
            "tags": []
          },
          "execution_count": 97
        },
        {
          "output_type": "display_data",
          "data": {
            "image/png": "[encoded data removed]",
            "text/plain": [
              "<Figure size 432x288 with 1 Axes>"
            ]
          },
          "metadata": {
            "tags": [],
            "needs_background": "light"
          }
        }
      ]
    },
    {
      "cell_type": "code",
      "metadata": {
        "colab": {
          "base_uri": "https://localhost:8080/",
          "height": 616
        },
        "id": "mph70LqPXA3a",
        "outputId": "d8d7f8b2-c6d7-4159-f7a1-de92285c69f4"
      },
      "source": [
        "plt.figure(figsize=(20,10))\n",
        "sns.scatterplot(x=cls_data[\"Recency\"], y=cls_data[\"Monetary\"], hue=cls_data[\"cluster\"], palette=\"deep\", sizes=(20, 200), legend=\"full\")\n",
        "plt.show()"
      ],
      "execution_count": null,
      "outputs": [
        {
          "output_type": "display_data",
          "data": {
            "image/png": "[encoded data removed]",
            "text/plain": [
              "<Figure size 1440x720 with 1 Axes>"
            ]
          },
          "metadata": {
            "tags": [],
            "needs_background": "light"
          }
        }
      ]
    },
    {
      "cell_type": "markdown",
      "metadata": {
        "id": "EHPVx89IkqpN"
      },
      "source": [
        "### Cluster 1 has those customers who have high recency rate and low monetary value. Same way we can see other clusters metrics also with this chart.\n",
        "\n",
        "### like cluster 3, 2 and 0 have low recency rate in comparison to cluster 1 and cluster 4."
      ]
    },
    {
      "cell_type": "code",
      "metadata": {
        "colab": {
          "base_uri": "https://localhost:8080/",
          "height": 606
        },
        "id": "VfrUJxb5ajOr",
        "outputId": "14817a1c-b502-4279-eeda-f43ce3a898c5"
      },
      "source": [
        "plt.figure(figsize=(20,10))\n",
        "sns.scatterplot(x=cls_data[\"Recency\"], y=cls_data[\"Frequency\"], hue=cls_data[\"cluster\"], palette=\"deep\", sizes=(20, 200), legend=\"full\")\n",
        "plt.show()"
      ],
      "execution_count": null,
      "outputs": [
        {
          "output_type": "display_data",
          "data": {
            "image/png": "[encoded data removed]",
            "text/plain": [
              "<Figure size 1440x720 with 1 Axes>"
            ]
          },
          "metadata": {
            "tags": [],
            "needs_background": "light"
          }
        }
      ]
    },
    {
      "cell_type": "code",
      "metadata": {
        "id": "bZxSdzxwai_e"
      },
      "source": [
        ""
      ],
      "execution_count": null,
      "outputs": []
    },
    {
      "cell_type": "code",
      "metadata": {
        "id": "RbatYeJoai3e"
      },
      "source": [
        ""
      ],
      "execution_count": null,
      "outputs": []
    },
    {
      "cell_type": "code",
      "metadata": {
        "id": "MQGjcehXaitg"
      },
      "source": [
        ""
      ],
      "execution_count": null,
      "outputs": []
    },
    {
      "cell_type": "code",
      "metadata": {
        "id": "gH7QjAnMailB"
      },
      "source": [
        ""
      ],
      "execution_count": null,
      "outputs": []
    },
    {
      "cell_type": "code",
      "metadata": {
        "id": "WYUQ_m1yaiNX"
      },
      "source": [
        ""
      ],
      "execution_count": null,
      "outputs": []
    }
  ]
}